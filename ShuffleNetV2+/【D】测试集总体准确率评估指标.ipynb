{
 "cells": [
  {
   "cell_type": "markdown",
   "id": "2a22969d-14d8-430d-84af-2ce7c2e5cf29",
   "metadata": {},
   "source": [
    "# 测试集总体准确率评估指标\n",
    "\n",
    "分析测试集预测结果表格，计算总体准确率评估指标和各类别准确率评估指标。\n",
    "\n",
    "同济子豪兄：https://space.bilibili.com/1900783"
   ]
  },
  {
   "cell_type": "markdown",
   "id": "6126ed04-a127-4d55-8a4b-aeb5d440039c",
   "metadata": {},
   "source": [
    "## 导入工具包"
   ]
  },
  {
   "cell_type": "code",
   "execution_count": 9,
   "id": "4c48d4e8-5de7-4d6f-9e6d-c5f799f1223d",
   "metadata": {
    "tags": []
   },
   "outputs": [],
   "source": [
    "import pandas as pd\n",
    "import numpy as np\n",
    "from tqdm import tqdm"
   ]
  },
  {
   "cell_type": "markdown",
   "id": "f1d831d0-8192-4db6-b913-ef7327463f35",
   "metadata": {},
   "source": [
    "## 载入类别名称和ID"
   ]
  },
  {
   "cell_type": "code",
   "execution_count": 10,
   "id": "00c507c4-c990-4326-b479-4b18e8aa50da",
   "metadata": {
    "tags": []
   },
   "outputs": [
    {
     "name": "stdout",
     "output_type": "stream",
     "text": [
      "['covering', 'device', 'domestic_animal', 'mater', 'person', 'plant', 'structure', 'vertebrate']\n"
     ]
    }
   ],
   "source": [
    "dataset_name = 'test_easy_classes'\n",
    "model_path = 'models/2023-09-24-15:52_max_epoch_50/'\n",
    "\n",
    "# 类别名称 和 ID索引号 的映射字典\n",
    "class_names_dic = {0: 'covering', 1: 'device', 2: 'domestic_animal', 3: 'mater', 4: 'person', 5: 'plant',\n",
    "                       6: 'structure', 7: 'vertebrate'}\n",
    "# 获得类别名称\n",
    "classes = list(class_names_dic.values())\n",
    "print(classes)"
   ]
  },
  {
   "cell_type": "markdown",
   "id": "a25de944-2532-472c-af77-6b8eaacfa916",
   "metadata": {},
   "source": [
    "## 载入测试集预测结果表格"
   ]
  },
  {
   "cell_type": "code",
   "execution_count": 11,
   "id": "42c95441-d023-4fc2-897b-3f6a7f86e017",
   "metadata": {
    "tags": []
   },
   "outputs": [],
   "source": [
    "df = pd.read_csv(model_path + dataset_name +'-测试集预测结果.csv')"
   ]
  },
  {
   "cell_type": "code",
   "execution_count": 12,
   "id": "917a75bd-bd3f-4105-aa3c-0fce5e4d1fda",
   "metadata": {
    "tags": []
   },
   "outputs": [
    {
     "data": {
      "text/html": [
       "<div>\n",
       "<style scoped>\n",
       "    .dataframe tbody tr th:only-of-type {\n",
       "        vertical-align: middle;\n",
       "    }\n",
       "\n",
       "    .dataframe tbody tr th {\n",
       "        vertical-align: top;\n",
       "    }\n",
       "\n",
       "    .dataframe thead th {\n",
       "        text-align: right;\n",
       "    }\n",
       "</style>\n",
       "<table border=\"1\" class=\"dataframe\">\n",
       "  <thead>\n",
       "    <tr style=\"text-align: right;\">\n",
       "      <th></th>\n",
       "      <th>图像路径</th>\n",
       "      <th>标注类别ID</th>\n",
       "      <th>标注类别名称</th>\n",
       "      <th>top-1-预测ID</th>\n",
       "      <th>top-1-预测名称</th>\n",
       "      <th>top-2-预测ID</th>\n",
       "      <th>top-2-预测名称</th>\n",
       "      <th>top-3-预测ID</th>\n",
       "      <th>top-3-预测名称</th>\n",
       "      <th>top-n预测正确</th>\n",
       "      <th>covering-预测置信度</th>\n",
       "      <th>device-预测置信度</th>\n",
       "      <th>domestic_animal-预测置信度</th>\n",
       "      <th>mater-预测置信度</th>\n",
       "      <th>person-预测置信度</th>\n",
       "      <th>plant-预测置信度</th>\n",
       "      <th>structure-预测置信度</th>\n",
       "      <th>vertebrate-预测置信度</th>\n",
       "    </tr>\n",
       "  </thead>\n",
       "  <tbody>\n",
       "    <tr>\n",
       "      <th>0</th>\n",
       "      <td>data/SOD-SemanticDataset/test/COME15K-Easy/COM...</td>\n",
       "      <td>0</td>\n",
       "      <td>covering</td>\n",
       "      <td>3</td>\n",
       "      <td>mater</td>\n",
       "      <td>1</td>\n",
       "      <td>device</td>\n",
       "      <td>6</td>\n",
       "      <td>structure</td>\n",
       "      <td>False</td>\n",
       "      <td>0.053483</td>\n",
       "      <td>0.221736</td>\n",
       "      <td>0.001853</td>\n",
       "      <td>0.478643</td>\n",
       "      <td>0.015743</td>\n",
       "      <td>0.007416</td>\n",
       "      <td>0.206461</td>\n",
       "      <td>0.014667</td>\n",
       "    </tr>\n",
       "    <tr>\n",
       "      <th>1</th>\n",
       "      <td>data/SOD-SemanticDataset/test/COME15K-Easy/COM...</td>\n",
       "      <td>0</td>\n",
       "      <td>covering</td>\n",
       "      <td>2</td>\n",
       "      <td>domestic_animal</td>\n",
       "      <td>4</td>\n",
       "      <td>person</td>\n",
       "      <td>7</td>\n",
       "      <td>vertebrate</td>\n",
       "      <td>False</td>\n",
       "      <td>0.065810</td>\n",
       "      <td>0.001200</td>\n",
       "      <td>0.730829</td>\n",
       "      <td>0.007129</td>\n",
       "      <td>0.097066</td>\n",
       "      <td>0.001619</td>\n",
       "      <td>0.002674</td>\n",
       "      <td>0.093673</td>\n",
       "    </tr>\n",
       "    <tr>\n",
       "      <th>2</th>\n",
       "      <td>data/SOD-SemanticDataset/test/COME15K-Easy/COM...</td>\n",
       "      <td>0</td>\n",
       "      <td>covering</td>\n",
       "      <td>4</td>\n",
       "      <td>person</td>\n",
       "      <td>5</td>\n",
       "      <td>plant</td>\n",
       "      <td>6</td>\n",
       "      <td>structure</td>\n",
       "      <td>False</td>\n",
       "      <td>0.099537</td>\n",
       "      <td>0.015642</td>\n",
       "      <td>0.002969</td>\n",
       "      <td>0.060892</td>\n",
       "      <td>0.297557</td>\n",
       "      <td>0.256265</td>\n",
       "      <td>0.151516</td>\n",
       "      <td>0.115622</td>\n",
       "    </tr>\n",
       "    <tr>\n",
       "      <th>3</th>\n",
       "      <td>data/SOD-SemanticDataset/test/COME15K-Easy/COM...</td>\n",
       "      <td>0</td>\n",
       "      <td>covering</td>\n",
       "      <td>0</td>\n",
       "      <td>covering</td>\n",
       "      <td>4</td>\n",
       "      <td>person</td>\n",
       "      <td>3</td>\n",
       "      <td>mater</td>\n",
       "      <td>True</td>\n",
       "      <td>0.514543</td>\n",
       "      <td>0.002269</td>\n",
       "      <td>0.005743</td>\n",
       "      <td>0.012137</td>\n",
       "      <td>0.446524</td>\n",
       "      <td>0.005227</td>\n",
       "      <td>0.008116</td>\n",
       "      <td>0.005442</td>\n",
       "    </tr>\n",
       "    <tr>\n",
       "      <th>4</th>\n",
       "      <td>data/SOD-SemanticDataset/test/COME15K-Easy/COM...</td>\n",
       "      <td>0</td>\n",
       "      <td>covering</td>\n",
       "      <td>4</td>\n",
       "      <td>person</td>\n",
       "      <td>0</td>\n",
       "      <td>covering</td>\n",
       "      <td>7</td>\n",
       "      <td>vertebrate</td>\n",
       "      <td>True</td>\n",
       "      <td>0.300385</td>\n",
       "      <td>0.001374</td>\n",
       "      <td>0.025110</td>\n",
       "      <td>0.004683</td>\n",
       "      <td>0.617911</td>\n",
       "      <td>0.006019</td>\n",
       "      <td>0.003014</td>\n",
       "      <td>0.041503</td>\n",
       "    </tr>\n",
       "    <tr>\n",
       "      <th>...</th>\n",
       "      <td>...</td>\n",
       "      <td>...</td>\n",
       "      <td>...</td>\n",
       "      <td>...</td>\n",
       "      <td>...</td>\n",
       "      <td>...</td>\n",
       "      <td>...</td>\n",
       "      <td>...</td>\n",
       "      <td>...</td>\n",
       "      <td>...</td>\n",
       "      <td>...</td>\n",
       "      <td>...</td>\n",
       "      <td>...</td>\n",
       "      <td>...</td>\n",
       "      <td>...</td>\n",
       "      <td>...</td>\n",
       "      <td>...</td>\n",
       "      <td>...</td>\n",
       "    </tr>\n",
       "    <tr>\n",
       "      <th>4595</th>\n",
       "      <td>data/SOD-SemanticDataset/test/COME15K-Easy/COM...</td>\n",
       "      <td>7</td>\n",
       "      <td>vertebrate</td>\n",
       "      <td>4</td>\n",
       "      <td>person</td>\n",
       "      <td>0</td>\n",
       "      <td>covering</td>\n",
       "      <td>3</td>\n",
       "      <td>mater</td>\n",
       "      <td>False</td>\n",
       "      <td>0.110088</td>\n",
       "      <td>0.005483</td>\n",
       "      <td>0.003760</td>\n",
       "      <td>0.016379</td>\n",
       "      <td>0.854861</td>\n",
       "      <td>0.002199</td>\n",
       "      <td>0.003526</td>\n",
       "      <td>0.003704</td>\n",
       "    </tr>\n",
       "    <tr>\n",
       "      <th>4596</th>\n",
       "      <td>data/SOD-SemanticDataset/test/COME15K-Easy/COM...</td>\n",
       "      <td>7</td>\n",
       "      <td>vertebrate</td>\n",
       "      <td>7</td>\n",
       "      <td>vertebrate</td>\n",
       "      <td>6</td>\n",
       "      <td>structure</td>\n",
       "      <td>2</td>\n",
       "      <td>domestic_animal</td>\n",
       "      <td>True</td>\n",
       "      <td>0.025481</td>\n",
       "      <td>0.030964</td>\n",
       "      <td>0.159872</td>\n",
       "      <td>0.122758</td>\n",
       "      <td>0.046617</td>\n",
       "      <td>0.005959</td>\n",
       "      <td>0.239000</td>\n",
       "      <td>0.369348</td>\n",
       "    </tr>\n",
       "    <tr>\n",
       "      <th>4597</th>\n",
       "      <td>data/SOD-SemanticDataset/test/COME15K-Easy/COM...</td>\n",
       "      <td>7</td>\n",
       "      <td>vertebrate</td>\n",
       "      <td>7</td>\n",
       "      <td>vertebrate</td>\n",
       "      <td>3</td>\n",
       "      <td>mater</td>\n",
       "      <td>1</td>\n",
       "      <td>device</td>\n",
       "      <td>True</td>\n",
       "      <td>0.000115</td>\n",
       "      <td>0.000479</td>\n",
       "      <td>0.000395</td>\n",
       "      <td>0.017900</td>\n",
       "      <td>0.000278</td>\n",
       "      <td>0.000340</td>\n",
       "      <td>0.000290</td>\n",
       "      <td>0.980203</td>\n",
       "    </tr>\n",
       "    <tr>\n",
       "      <th>4598</th>\n",
       "      <td>data/SOD-SemanticDataset/test/COME15K-Easy/COM...</td>\n",
       "      <td>7</td>\n",
       "      <td>vertebrate</td>\n",
       "      <td>7</td>\n",
       "      <td>vertebrate</td>\n",
       "      <td>2</td>\n",
       "      <td>domestic_animal</td>\n",
       "      <td>3</td>\n",
       "      <td>mater</td>\n",
       "      <td>True</td>\n",
       "      <td>0.005393</td>\n",
       "      <td>0.003453</td>\n",
       "      <td>0.044648</td>\n",
       "      <td>0.024936</td>\n",
       "      <td>0.009528</td>\n",
       "      <td>0.004031</td>\n",
       "      <td>0.008072</td>\n",
       "      <td>0.899940</td>\n",
       "    </tr>\n",
       "    <tr>\n",
       "      <th>4599</th>\n",
       "      <td>data/SOD-SemanticDataset/test/COME15K-Easy/COM...</td>\n",
       "      <td>7</td>\n",
       "      <td>vertebrate</td>\n",
       "      <td>3</td>\n",
       "      <td>mater</td>\n",
       "      <td>4</td>\n",
       "      <td>person</td>\n",
       "      <td>1</td>\n",
       "      <td>device</td>\n",
       "      <td>False</td>\n",
       "      <td>0.003651</td>\n",
       "      <td>0.006062</td>\n",
       "      <td>0.000158</td>\n",
       "      <td>0.975668</td>\n",
       "      <td>0.006491</td>\n",
       "      <td>0.004113</td>\n",
       "      <td>0.002739</td>\n",
       "      <td>0.001119</td>\n",
       "    </tr>\n",
       "  </tbody>\n",
       "</table>\n",
       "<p>4600 rows × 18 columns</p>\n",
       "</div>"
      ],
      "text/plain": [
       "                                                   图像路径  标注类别ID      标注类别名称  \\\n",
       "0     data/SOD-SemanticDataset/test/COME15K-Easy/COM...       0    covering   \n",
       "1     data/SOD-SemanticDataset/test/COME15K-Easy/COM...       0    covering   \n",
       "2     data/SOD-SemanticDataset/test/COME15K-Easy/COM...       0    covering   \n",
       "3     data/SOD-SemanticDataset/test/COME15K-Easy/COM...       0    covering   \n",
       "4     data/SOD-SemanticDataset/test/COME15K-Easy/COM...       0    covering   \n",
       "...                                                 ...     ...         ...   \n",
       "4595  data/SOD-SemanticDataset/test/COME15K-Easy/COM...       7  vertebrate   \n",
       "4596  data/SOD-SemanticDataset/test/COME15K-Easy/COM...       7  vertebrate   \n",
       "4597  data/SOD-SemanticDataset/test/COME15K-Easy/COM...       7  vertebrate   \n",
       "4598  data/SOD-SemanticDataset/test/COME15K-Easy/COM...       7  vertebrate   \n",
       "4599  data/SOD-SemanticDataset/test/COME15K-Easy/COM...       7  vertebrate   \n",
       "\n",
       "      top-1-预测ID       top-1-预测名称  top-2-预测ID       top-2-预测名称  top-3-预测ID  \\\n",
       "0              3            mater           1           device           6   \n",
       "1              2  domestic_animal           4           person           7   \n",
       "2              4           person           5            plant           6   \n",
       "3              0         covering           4           person           3   \n",
       "4              4           person           0         covering           7   \n",
       "...          ...              ...         ...              ...         ...   \n",
       "4595           4           person           0         covering           3   \n",
       "4596           7       vertebrate           6        structure           2   \n",
       "4597           7       vertebrate           3            mater           1   \n",
       "4598           7       vertebrate           2  domestic_animal           3   \n",
       "4599           3            mater           4           person           1   \n",
       "\n",
       "           top-3-预测名称  top-n预测正确  covering-预测置信度  device-预测置信度  \\\n",
       "0           structure      False        0.053483      0.221736   \n",
       "1          vertebrate      False        0.065810      0.001200   \n",
       "2           structure      False        0.099537      0.015642   \n",
       "3               mater       True        0.514543      0.002269   \n",
       "4          vertebrate       True        0.300385      0.001374   \n",
       "...               ...        ...             ...           ...   \n",
       "4595            mater      False        0.110088      0.005483   \n",
       "4596  domestic_animal       True        0.025481      0.030964   \n",
       "4597           device       True        0.000115      0.000479   \n",
       "4598            mater       True        0.005393      0.003453   \n",
       "4599           device      False        0.003651      0.006062   \n",
       "\n",
       "      domestic_animal-预测置信度  mater-预测置信度  person-预测置信度  plant-预测置信度  \\\n",
       "0                  0.001853     0.478643      0.015743     0.007416   \n",
       "1                  0.730829     0.007129      0.097066     0.001619   \n",
       "2                  0.002969     0.060892      0.297557     0.256265   \n",
       "3                  0.005743     0.012137      0.446524     0.005227   \n",
       "4                  0.025110     0.004683      0.617911     0.006019   \n",
       "...                     ...          ...           ...          ...   \n",
       "4595               0.003760     0.016379      0.854861     0.002199   \n",
       "4596               0.159872     0.122758      0.046617     0.005959   \n",
       "4597               0.000395     0.017900      0.000278     0.000340   \n",
       "4598               0.044648     0.024936      0.009528     0.004031   \n",
       "4599               0.000158     0.975668      0.006491     0.004113   \n",
       "\n",
       "      structure-预测置信度  vertebrate-预测置信度  \n",
       "0            0.206461          0.014667  \n",
       "1            0.002674          0.093673  \n",
       "2            0.151516          0.115622  \n",
       "3            0.008116          0.005442  \n",
       "4            0.003014          0.041503  \n",
       "...               ...               ...  \n",
       "4595         0.003526          0.003704  \n",
       "4596         0.239000          0.369348  \n",
       "4597         0.000290          0.980203  \n",
       "4598         0.008072          0.899940  \n",
       "4599         0.002739          0.001119  \n",
       "\n",
       "[4600 rows x 18 columns]"
      ]
     },
     "execution_count": 12,
     "metadata": {},
     "output_type": "execute_result"
    }
   ],
   "source": [
    "df"
   ]
  },
  {
   "cell_type": "markdown",
   "id": "9a8b96c3-1d5c-41af-9592-44b839b3f4e4",
   "metadata": {},
   "source": [
    "## 准确率"
   ]
  },
  {
   "cell_type": "code",
   "execution_count": 13,
   "id": "c9886ac3-4640-4ff3-8884-2206af037fac",
   "metadata": {
    "tags": []
   },
   "outputs": [
    {
     "data": {
      "text/plain": [
       "0.7589130434782608"
      ]
     },
     "execution_count": 13,
     "metadata": {},
     "output_type": "execute_result"
    }
   ],
   "source": [
    "sum(df['标注类别名称'] == df['top-1-预测名称']) / len(df)"
   ]
  },
  {
   "cell_type": "markdown",
   "id": "bf691ba6-ce59-4dcc-9305-109fe5dcb499",
   "metadata": {},
   "source": [
    "## top-n准确率"
   ]
  },
  {
   "cell_type": "code",
   "execution_count": 14,
   "id": "fedf6c0d-c06b-4a04-8a07-9d4c6f937338",
   "metadata": {
    "tags": []
   },
   "outputs": [
    {
     "data": {
      "text/plain": [
       "0.9528260869565217"
      ]
     },
     "execution_count": 14,
     "metadata": {},
     "output_type": "execute_result"
    }
   ],
   "source": [
    "sum(df['top-n预测正确']) / len(df)"
   ]
  },
  {
   "cell_type": "markdown",
   "id": "8a3de26a-3e66-404b-b64d-111835a7c0de",
   "metadata": {},
   "source": [
    "## 各类别其它评估指标\n",
    "\n",
    "公众号 人工智能小技巧 回复 混淆矩阵\n",
    "\n",
    "看子豪兄视频和笔记讲解"
   ]
  },
  {
   "cell_type": "code",
   "execution_count": 15,
   "id": "d1e22035-9163-427f-b620-d3bc079f8959",
   "metadata": {
    "tags": []
   },
   "outputs": [],
   "source": [
    "from sklearn.metrics import classification_report"
   ]
  },
  {
   "cell_type": "code",
   "execution_count": 16,
   "id": "18d3f8e3-8e57-42c0-97d2-62f1e33b5739",
   "metadata": {
    "tags": []
   },
   "outputs": [
    {
     "name": "stdout",
     "output_type": "stream",
     "text": [
      "                 precision    recall  f1-score   support\n",
      "\n",
      "       covering       0.53      0.34      0.42       342\n",
      "         device       0.68      0.58      0.63       408\n",
      "domestic_animal       0.88      0.93      0.90       475\n",
      "          mater       0.69      0.76      0.72       957\n",
      "         person       0.83      0.87      0.85      1380\n",
      "          plant       0.77      0.81      0.79       252\n",
      "      structure       0.51      0.50      0.51       240\n",
      "     vertebrate       0.84      0.82      0.83       546\n",
      "\n",
      "       accuracy                           0.76      4600\n",
      "      macro avg       0.72      0.70      0.71      4600\n",
      "   weighted avg       0.75      0.76      0.75      4600\n",
      "\n"
     ]
    }
   ],
   "source": [
    "print(classification_report(df['标注类别名称'], df['top-1-预测名称'], target_names=classes))"
   ]
  },
  {
   "cell_type": "markdown",
   "id": "df4db2a0-b1b2-4cff-92e5-fc097336b2ae",
   "metadata": {},
   "source": [
    "macro avg 宏平均：直接将每一类的评估指标求和取平均（算数平均值）\n",
    "\n",
    "weighted avg 加权平均：按样本数量（support）加权计算评估指标的平均值"
   ]
  },
  {
   "cell_type": "code",
   "execution_count": 17,
   "id": "64e2187b-a236-4518-a439-562e565739c5",
   "metadata": {
    "tags": []
   },
   "outputs": [],
   "source": [
    "report = classification_report(df['标注类别名称'], df['top-1-预测名称'], target_names=classes, output_dict=True)\n",
    "del report['accuracy']\n",
    "df_report = pd.DataFrame(report).transpose()"
   ]
  },
  {
   "cell_type": "code",
   "execution_count": 18,
   "id": "14266155-da0f-4c5d-9366-4273222fe600",
   "metadata": {
    "tags": []
   },
   "outputs": [
    {
     "data": {
      "text/html": [
       "<div>\n",
       "<style scoped>\n",
       "    .dataframe tbody tr th:only-of-type {\n",
       "        vertical-align: middle;\n",
       "    }\n",
       "\n",
       "    .dataframe tbody tr th {\n",
       "        vertical-align: top;\n",
       "    }\n",
       "\n",
       "    .dataframe thead th {\n",
       "        text-align: right;\n",
       "    }\n",
       "</style>\n",
       "<table border=\"1\" class=\"dataframe\">\n",
       "  <thead>\n",
       "    <tr style=\"text-align: right;\">\n",
       "      <th></th>\n",
       "      <th>precision</th>\n",
       "      <th>recall</th>\n",
       "      <th>f1-score</th>\n",
       "      <th>support</th>\n",
       "    </tr>\n",
       "  </thead>\n",
       "  <tbody>\n",
       "    <tr>\n",
       "      <th>covering</th>\n",
       "      <td>0.529412</td>\n",
       "      <td>0.342105</td>\n",
       "      <td>0.415631</td>\n",
       "      <td>342.0</td>\n",
       "    </tr>\n",
       "    <tr>\n",
       "      <th>device</th>\n",
       "      <td>0.678063</td>\n",
       "      <td>0.583333</td>\n",
       "      <td>0.627141</td>\n",
       "      <td>408.0</td>\n",
       "    </tr>\n",
       "    <tr>\n",
       "      <th>domestic_animal</th>\n",
       "      <td>0.880240</td>\n",
       "      <td>0.928421</td>\n",
       "      <td>0.903689</td>\n",
       "      <td>475.0</td>\n",
       "    </tr>\n",
       "    <tr>\n",
       "      <th>mater</th>\n",
       "      <td>0.692748</td>\n",
       "      <td>0.758621</td>\n",
       "      <td>0.724190</td>\n",
       "      <td>957.0</td>\n",
       "    </tr>\n",
       "    <tr>\n",
       "      <th>person</th>\n",
       "      <td>0.827562</td>\n",
       "      <td>0.865942</td>\n",
       "      <td>0.846317</td>\n",
       "      <td>1380.0</td>\n",
       "    </tr>\n",
       "    <tr>\n",
       "      <th>plant</th>\n",
       "      <td>0.766917</td>\n",
       "      <td>0.809524</td>\n",
       "      <td>0.787645</td>\n",
       "      <td>252.0</td>\n",
       "    </tr>\n",
       "    <tr>\n",
       "      <th>structure</th>\n",
       "      <td>0.512821</td>\n",
       "      <td>0.500000</td>\n",
       "      <td>0.506329</td>\n",
       "      <td>240.0</td>\n",
       "    </tr>\n",
       "    <tr>\n",
       "      <th>vertebrate</th>\n",
       "      <td>0.841121</td>\n",
       "      <td>0.824176</td>\n",
       "      <td>0.832562</td>\n",
       "      <td>546.0</td>\n",
       "    </tr>\n",
       "    <tr>\n",
       "      <th>macro avg</th>\n",
       "      <td>0.716110</td>\n",
       "      <td>0.701515</td>\n",
       "      <td>0.705438</td>\n",
       "      <td>4600.0</td>\n",
       "    </tr>\n",
       "    <tr>\n",
       "      <th>weighted avg</th>\n",
       "      <td>0.751394</td>\n",
       "      <td>0.758913</td>\n",
       "      <td>0.752788</td>\n",
       "      <td>4600.0</td>\n",
       "    </tr>\n",
       "  </tbody>\n",
       "</table>\n",
       "</div>"
      ],
      "text/plain": [
       "                 precision    recall  f1-score  support\n",
       "covering          0.529412  0.342105  0.415631    342.0\n",
       "device            0.678063  0.583333  0.627141    408.0\n",
       "domestic_animal   0.880240  0.928421  0.903689    475.0\n",
       "mater             0.692748  0.758621  0.724190    957.0\n",
       "person            0.827562  0.865942  0.846317   1380.0\n",
       "plant             0.766917  0.809524  0.787645    252.0\n",
       "structure         0.512821  0.500000  0.506329    240.0\n",
       "vertebrate        0.841121  0.824176  0.832562    546.0\n",
       "macro avg         0.716110  0.701515  0.705438   4600.0\n",
       "weighted avg      0.751394  0.758913  0.752788   4600.0"
      ]
     },
     "execution_count": 18,
     "metadata": {},
     "output_type": "execute_result"
    }
   ],
   "source": [
    "df_report"
   ]
  },
  {
   "cell_type": "markdown",
   "id": "a65da7a6-f1ba-4f86-8a89-11d87529f6c7",
   "metadata": {},
   "source": [
    "## 补充：各类别准确率（其实就是recall）"
   ]
  },
  {
   "cell_type": "code",
   "execution_count": 19,
   "id": "02d63458-49eb-4d8a-a264-2e09bb61bc6b",
   "metadata": {
    "tags": []
   },
   "outputs": [
    {
     "name": "stderr",
     "output_type": "stream",
     "text": [
      "100%|███████████████████████████████████████████| 8/8 [00:00<00:00, 1382.04it/s]\n"
     ]
    }
   ],
   "source": [
    "accuracy_list = []\n",
    "for element in tqdm(classes):\n",
    "    df_temp = df[df['标注类别名称']==element]\n",
    "    accuracy = sum(df_temp['标注类别名称'] == df_temp['top-1-预测名称']) / len(df_temp)\n",
    "    accuracy_list.append(accuracy)"
   ]
  },
  {
   "cell_type": "code",
   "execution_count": 20,
   "id": "24ca5a23-b6f3-4ce3-84af-262fa5d10edb",
   "metadata": {
    "tags": []
   },
   "outputs": [],
   "source": [
    "# 计算 宏平均准确率 和 加权平均准确率\n",
    "acc_macro = np.mean(accuracy_list)\n",
    "acc_weighted = sum(accuracy_list * df_report.iloc[:-2]['support'] / len(df))\n",
    "\n",
    "accuracy_list.append(acc_macro)\n",
    "accuracy_list.append(acc_weighted)\n",
    "\n",
    "df_report['accuracy'] = accuracy_list"
   ]
  },
  {
   "cell_type": "code",
   "execution_count": 21,
   "id": "6f4b0b49-a8f2-4647-bc68-22f83ce29cc2",
   "metadata": {
    "tags": []
   },
   "outputs": [
    {
     "data": {
      "text/html": [
       "<div>\n",
       "<style scoped>\n",
       "    .dataframe tbody tr th:only-of-type {\n",
       "        vertical-align: middle;\n",
       "    }\n",
       "\n",
       "    .dataframe tbody tr th {\n",
       "        vertical-align: top;\n",
       "    }\n",
       "\n",
       "    .dataframe thead th {\n",
       "        text-align: right;\n",
       "    }\n",
       "</style>\n",
       "<table border=\"1\" class=\"dataframe\">\n",
       "  <thead>\n",
       "    <tr style=\"text-align: right;\">\n",
       "      <th></th>\n",
       "      <th>precision</th>\n",
       "      <th>recall</th>\n",
       "      <th>f1-score</th>\n",
       "      <th>support</th>\n",
       "      <th>accuracy</th>\n",
       "    </tr>\n",
       "  </thead>\n",
       "  <tbody>\n",
       "    <tr>\n",
       "      <th>covering</th>\n",
       "      <td>0.529412</td>\n",
       "      <td>0.342105</td>\n",
       "      <td>0.415631</td>\n",
       "      <td>342.0</td>\n",
       "      <td>0.342105</td>\n",
       "    </tr>\n",
       "    <tr>\n",
       "      <th>device</th>\n",
       "      <td>0.678063</td>\n",
       "      <td>0.583333</td>\n",
       "      <td>0.627141</td>\n",
       "      <td>408.0</td>\n",
       "      <td>0.583333</td>\n",
       "    </tr>\n",
       "    <tr>\n",
       "      <th>domestic_animal</th>\n",
       "      <td>0.880240</td>\n",
       "      <td>0.928421</td>\n",
       "      <td>0.903689</td>\n",
       "      <td>475.0</td>\n",
       "      <td>0.928421</td>\n",
       "    </tr>\n",
       "    <tr>\n",
       "      <th>mater</th>\n",
       "      <td>0.692748</td>\n",
       "      <td>0.758621</td>\n",
       "      <td>0.724190</td>\n",
       "      <td>957.0</td>\n",
       "      <td>0.758621</td>\n",
       "    </tr>\n",
       "    <tr>\n",
       "      <th>person</th>\n",
       "      <td>0.827562</td>\n",
       "      <td>0.865942</td>\n",
       "      <td>0.846317</td>\n",
       "      <td>1380.0</td>\n",
       "      <td>0.865942</td>\n",
       "    </tr>\n",
       "    <tr>\n",
       "      <th>plant</th>\n",
       "      <td>0.766917</td>\n",
       "      <td>0.809524</td>\n",
       "      <td>0.787645</td>\n",
       "      <td>252.0</td>\n",
       "      <td>0.809524</td>\n",
       "    </tr>\n",
       "    <tr>\n",
       "      <th>structure</th>\n",
       "      <td>0.512821</td>\n",
       "      <td>0.500000</td>\n",
       "      <td>0.506329</td>\n",
       "      <td>240.0</td>\n",
       "      <td>0.500000</td>\n",
       "    </tr>\n",
       "    <tr>\n",
       "      <th>vertebrate</th>\n",
       "      <td>0.841121</td>\n",
       "      <td>0.824176</td>\n",
       "      <td>0.832562</td>\n",
       "      <td>546.0</td>\n",
       "      <td>0.824176</td>\n",
       "    </tr>\n",
       "    <tr>\n",
       "      <th>macro avg</th>\n",
       "      <td>0.716110</td>\n",
       "      <td>0.701515</td>\n",
       "      <td>0.705438</td>\n",
       "      <td>4600.0</td>\n",
       "      <td>0.701515</td>\n",
       "    </tr>\n",
       "    <tr>\n",
       "      <th>weighted avg</th>\n",
       "      <td>0.751394</td>\n",
       "      <td>0.758913</td>\n",
       "      <td>0.752788</td>\n",
       "      <td>4600.0</td>\n",
       "      <td>0.758913</td>\n",
       "    </tr>\n",
       "  </tbody>\n",
       "</table>\n",
       "</div>"
      ],
      "text/plain": [
       "                 precision    recall  f1-score  support  accuracy\n",
       "covering          0.529412  0.342105  0.415631    342.0  0.342105\n",
       "device            0.678063  0.583333  0.627141    408.0  0.583333\n",
       "domestic_animal   0.880240  0.928421  0.903689    475.0  0.928421\n",
       "mater             0.692748  0.758621  0.724190    957.0  0.758621\n",
       "person            0.827562  0.865942  0.846317   1380.0  0.865942\n",
       "plant             0.766917  0.809524  0.787645    252.0  0.809524\n",
       "structure         0.512821  0.500000  0.506329    240.0  0.500000\n",
       "vertebrate        0.841121  0.824176  0.832562    546.0  0.824176\n",
       "macro avg         0.716110  0.701515  0.705438   4600.0  0.701515\n",
       "weighted avg      0.751394  0.758913  0.752788   4600.0  0.758913"
      ]
     },
     "execution_count": 21,
     "metadata": {},
     "output_type": "execute_result"
    }
   ],
   "source": [
    "df_report"
   ]
  },
  {
   "cell_type": "code",
   "execution_count": 23,
   "id": "123e15a8-a48f-4cf6-b1de-0bf1ab673962",
   "metadata": {
    "tags": []
   },
   "outputs": [],
   "source": [
    "df_report.to_csv(model_path + dataset_name + '-各类别准确率评估指标.csv', index_label='类别')"
   ]
  },
  {
   "cell_type": "code",
   "execution_count": null,
   "id": "386536ae-7c69-491d-832c-d0b2aa8f64f0",
   "metadata": {},
   "outputs": [],
   "source": []
  }
 ],
 "metadata": {
  "kernelspec": {
   "display_name": "Python 3 (ipykernel)",
   "language": "python",
   "name": "python3"
  },
  "language_info": {
   "codemirror_mode": {
    "name": "ipython",
    "version": 3
   },
   "file_extension": ".py",
   "mimetype": "text/x-python",
   "name": "python",
   "nbconvert_exporter": "python",
   "pygments_lexer": "ipython3",
   "version": "3.11.4"
  }
 },
 "nbformat": 4,
 "nbformat_minor": 5
}
