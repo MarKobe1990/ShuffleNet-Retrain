{
 "cells": [
  {
   "cell_type": "markdown",
   "id": "2a22969d-14d8-430d-84af-2ce7c2e5cf29",
   "metadata": {},
   "source": [
    "# 测试集总体准确率评估指标\n",
    "\n",
    "分析测试集预测结果表格，计算总体准确率评估指标和各类别准确率评估指标。"
   ]
  },
  {
   "cell_type": "markdown",
   "id": "6126ed04-a127-4d55-8a4b-aeb5d440039c",
   "metadata": {},
   "source": [
    "## 导入工具包"
   ]
  },
  {
   "cell_type": "code",
   "execution_count": 1,
   "id": "4c48d4e8-5de7-4d6f-9e6d-c5f799f1223d",
   "metadata": {
    "tags": []
   },
   "outputs": [],
   "source": [
    "import pandas as pd\n",
    "import numpy as np\n",
    "from tqdm import tqdm"
   ]
  },
  {
   "cell_type": "markdown",
   "id": "f1d831d0-8192-4db6-b913-ef7327463f35",
   "metadata": {},
   "source": [
    "## 载入类别名称和ID"
   ]
  },
  {
   "cell_type": "code",
   "execution_count": 2,
   "id": "00c507c4-c990-4326-b479-4b18e8aa50da",
   "metadata": {
    "tags": []
   },
   "outputs": [
    {
     "name": "stdout",
     "output_type": "stream",
     "text": [
      "['covering', 'device', 'domestic_animal', 'mater', 'person', 'plant', 'structure', 'vertebrate']\n"
     ]
    }
   ],
   "source": [
    "dataset_name = 'test_easy_classes'\n",
    "model_path = './models/2023-10-09-01-47_max_epoch_100/'\n",
    "\n",
    "# 类别名称 和 ID索引号 的映射字典\n",
    "class_names_dic = {0: 'covering', 1: 'device', 2: 'domestic_animal', 3: 'mater', 4: 'person', 5: 'plant',\n",
    "                       6: 'structure', 7: 'vertebrate'}\n",
    "# 获得类别名称\n",
    "classes = list(class_names_dic.values())\n",
    "print(classes)"
   ]
  },
  {
   "cell_type": "markdown",
   "id": "a25de944-2532-472c-af77-6b8eaacfa916",
   "metadata": {},
   "source": [
    "## 载入测试集预测结果表格"
   ]
  },
  {
   "cell_type": "code",
   "execution_count": 3,
   "id": "42c95441-d023-4fc2-897b-3f6a7f86e017",
   "metadata": {
    "tags": []
   },
   "outputs": [],
   "source": [
    "df = pd.read_csv(model_path + dataset_name +'-测试集预测结果.csv')"
   ]
  },
  {
   "cell_type": "code",
   "execution_count": 4,
   "id": "917a75bd-bd3f-4105-aa3c-0fce5e4d1fda",
   "metadata": {
    "tags": []
   },
   "outputs": [
    {
     "data": {
      "text/html": [
       "<div>\n",
       "<style scoped>\n",
       "    .dataframe tbody tr th:only-of-type {\n",
       "        vertical-align: middle;\n",
       "    }\n",
       "\n",
       "    .dataframe tbody tr th {\n",
       "        vertical-align: top;\n",
       "    }\n",
       "\n",
       "    .dataframe thead th {\n",
       "        text-align: right;\n",
       "    }\n",
       "</style>\n",
       "<table border=\"1\" class=\"dataframe\">\n",
       "  <thead>\n",
       "    <tr style=\"text-align: right;\">\n",
       "      <th></th>\n",
       "      <th>图像路径</th>\n",
       "      <th>标注类别ID</th>\n",
       "      <th>标注类别名称</th>\n",
       "      <th>top-1-预测ID</th>\n",
       "      <th>top-1-预测名称</th>\n",
       "      <th>top-2-预测ID</th>\n",
       "      <th>top-2-预测名称</th>\n",
       "      <th>top-3-预测ID</th>\n",
       "      <th>top-3-预测名称</th>\n",
       "      <th>top-n预测正确</th>\n",
       "      <th>covering-预测置信度</th>\n",
       "      <th>device-预测置信度</th>\n",
       "      <th>domestic_animal-预测置信度</th>\n",
       "      <th>mater-预测置信度</th>\n",
       "      <th>person-预测置信度</th>\n",
       "      <th>plant-预测置信度</th>\n",
       "      <th>structure-预测置信度</th>\n",
       "      <th>vertebrate-预测置信度</th>\n",
       "    </tr>\n",
       "  </thead>\n",
       "  <tbody>\n",
       "    <tr>\n",
       "      <th>0</th>\n",
       "      <td>data/SOD-SemanticDataset/test/COME15K-Easy/COM...</td>\n",
       "      <td>0</td>\n",
       "      <td>covering</td>\n",
       "      <td>3</td>\n",
       "      <td>mater</td>\n",
       "      <td>1</td>\n",
       "      <td>device</td>\n",
       "      <td>6</td>\n",
       "      <td>structure</td>\n",
       "      <td>False</td>\n",
       "      <td>0.086643</td>\n",
       "      <td>0.303407</td>\n",
       "      <td>0.024822</td>\n",
       "      <td>0.319769</td>\n",
       "      <td>0.077333</td>\n",
       "      <td>0.028980</td>\n",
       "      <td>0.114983</td>\n",
       "      <td>0.044064</td>\n",
       "    </tr>\n",
       "    <tr>\n",
       "      <th>1</th>\n",
       "      <td>data/SOD-SemanticDataset/test/COME15K-Easy/COM...</td>\n",
       "      <td>0</td>\n",
       "      <td>covering</td>\n",
       "      <td>2</td>\n",
       "      <td>domestic_animal</td>\n",
       "      <td>4</td>\n",
       "      <td>person</td>\n",
       "      <td>0</td>\n",
       "      <td>covering</td>\n",
       "      <td>True</td>\n",
       "      <td>0.198171</td>\n",
       "      <td>0.007125</td>\n",
       "      <td>0.381032</td>\n",
       "      <td>0.024073</td>\n",
       "      <td>0.354935</td>\n",
       "      <td>0.008851</td>\n",
       "      <td>0.005868</td>\n",
       "      <td>0.019946</td>\n",
       "    </tr>\n",
       "    <tr>\n",
       "      <th>2</th>\n",
       "      <td>data/SOD-SemanticDataset/test/COME15K-Easy/COM...</td>\n",
       "      <td>0</td>\n",
       "      <td>covering</td>\n",
       "      <td>4</td>\n",
       "      <td>person</td>\n",
       "      <td>6</td>\n",
       "      <td>structure</td>\n",
       "      <td>3</td>\n",
       "      <td>mater</td>\n",
       "      <td>False</td>\n",
       "      <td>0.035153</td>\n",
       "      <td>0.015569</td>\n",
       "      <td>0.026645</td>\n",
       "      <td>0.090572</td>\n",
       "      <td>0.568652</td>\n",
       "      <td>0.090391</td>\n",
       "      <td>0.133795</td>\n",
       "      <td>0.039223</td>\n",
       "    </tr>\n",
       "    <tr>\n",
       "      <th>3</th>\n",
       "      <td>data/SOD-SemanticDataset/test/COME15K-Easy/COM...</td>\n",
       "      <td>0</td>\n",
       "      <td>covering</td>\n",
       "      <td>0</td>\n",
       "      <td>covering</td>\n",
       "      <td>4</td>\n",
       "      <td>person</td>\n",
       "      <td>6</td>\n",
       "      <td>structure</td>\n",
       "      <td>True</td>\n",
       "      <td>0.648035</td>\n",
       "      <td>0.015356</td>\n",
       "      <td>0.014455</td>\n",
       "      <td>0.017182</td>\n",
       "      <td>0.247620</td>\n",
       "      <td>0.021055</td>\n",
       "      <td>0.022791</td>\n",
       "      <td>0.013507</td>\n",
       "    </tr>\n",
       "    <tr>\n",
       "      <th>4</th>\n",
       "      <td>data/SOD-SemanticDataset/test/COME15K-Easy/COM...</td>\n",
       "      <td>0</td>\n",
       "      <td>covering</td>\n",
       "      <td>4</td>\n",
       "      <td>person</td>\n",
       "      <td>0</td>\n",
       "      <td>covering</td>\n",
       "      <td>2</td>\n",
       "      <td>domestic_animal</td>\n",
       "      <td>True</td>\n",
       "      <td>0.205372</td>\n",
       "      <td>0.004536</td>\n",
       "      <td>0.008880</td>\n",
       "      <td>0.006328</td>\n",
       "      <td>0.760580</td>\n",
       "      <td>0.004671</td>\n",
       "      <td>0.005539</td>\n",
       "      <td>0.004093</td>\n",
       "    </tr>\n",
       "    <tr>\n",
       "      <th>...</th>\n",
       "      <td>...</td>\n",
       "      <td>...</td>\n",
       "      <td>...</td>\n",
       "      <td>...</td>\n",
       "      <td>...</td>\n",
       "      <td>...</td>\n",
       "      <td>...</td>\n",
       "      <td>...</td>\n",
       "      <td>...</td>\n",
       "      <td>...</td>\n",
       "      <td>...</td>\n",
       "      <td>...</td>\n",
       "      <td>...</td>\n",
       "      <td>...</td>\n",
       "      <td>...</td>\n",
       "      <td>...</td>\n",
       "      <td>...</td>\n",
       "      <td>...</td>\n",
       "    </tr>\n",
       "    <tr>\n",
       "      <th>4595</th>\n",
       "      <td>data/SOD-SemanticDataset/test/COME15K-Easy/COM...</td>\n",
       "      <td>7</td>\n",
       "      <td>vertebrate</td>\n",
       "      <td>4</td>\n",
       "      <td>person</td>\n",
       "      <td>0</td>\n",
       "      <td>covering</td>\n",
       "      <td>3</td>\n",
       "      <td>mater</td>\n",
       "      <td>False</td>\n",
       "      <td>0.094164</td>\n",
       "      <td>0.011010</td>\n",
       "      <td>0.011683</td>\n",
       "      <td>0.037626</td>\n",
       "      <td>0.811901</td>\n",
       "      <td>0.008652</td>\n",
       "      <td>0.017354</td>\n",
       "      <td>0.007607</td>\n",
       "    </tr>\n",
       "    <tr>\n",
       "      <th>4596</th>\n",
       "      <td>data/SOD-SemanticDataset/test/COME15K-Easy/COM...</td>\n",
       "      <td>7</td>\n",
       "      <td>vertebrate</td>\n",
       "      <td>2</td>\n",
       "      <td>domestic_animal</td>\n",
       "      <td>7</td>\n",
       "      <td>vertebrate</td>\n",
       "      <td>6</td>\n",
       "      <td>structure</td>\n",
       "      <td>True</td>\n",
       "      <td>0.018885</td>\n",
       "      <td>0.034761</td>\n",
       "      <td>0.340070</td>\n",
       "      <td>0.142318</td>\n",
       "      <td>0.025168</td>\n",
       "      <td>0.012511</td>\n",
       "      <td>0.145722</td>\n",
       "      <td>0.280566</td>\n",
       "    </tr>\n",
       "    <tr>\n",
       "      <th>4597</th>\n",
       "      <td>data/SOD-SemanticDataset/test/COME15K-Easy/COM...</td>\n",
       "      <td>7</td>\n",
       "      <td>vertebrate</td>\n",
       "      <td>7</td>\n",
       "      <td>vertebrate</td>\n",
       "      <td>3</td>\n",
       "      <td>mater</td>\n",
       "      <td>1</td>\n",
       "      <td>device</td>\n",
       "      <td>True</td>\n",
       "      <td>0.005659</td>\n",
       "      <td>0.013612</td>\n",
       "      <td>0.008705</td>\n",
       "      <td>0.133622</td>\n",
       "      <td>0.005770</td>\n",
       "      <td>0.005831</td>\n",
       "      <td>0.007665</td>\n",
       "      <td>0.819136</td>\n",
       "    </tr>\n",
       "    <tr>\n",
       "      <th>4598</th>\n",
       "      <td>data/SOD-SemanticDataset/test/COME15K-Easy/COM...</td>\n",
       "      <td>7</td>\n",
       "      <td>vertebrate</td>\n",
       "      <td>7</td>\n",
       "      <td>vertebrate</td>\n",
       "      <td>3</td>\n",
       "      <td>mater</td>\n",
       "      <td>2</td>\n",
       "      <td>domestic_animal</td>\n",
       "      <td>True</td>\n",
       "      <td>0.016884</td>\n",
       "      <td>0.013057</td>\n",
       "      <td>0.037283</td>\n",
       "      <td>0.114033</td>\n",
       "      <td>0.009336</td>\n",
       "      <td>0.015262</td>\n",
       "      <td>0.011811</td>\n",
       "      <td>0.782334</td>\n",
       "    </tr>\n",
       "    <tr>\n",
       "      <th>4599</th>\n",
       "      <td>data/SOD-SemanticDataset/test/COME15K-Easy/COM...</td>\n",
       "      <td>7</td>\n",
       "      <td>vertebrate</td>\n",
       "      <td>3</td>\n",
       "      <td>mater</td>\n",
       "      <td>2</td>\n",
       "      <td>domestic_animal</td>\n",
       "      <td>1</td>\n",
       "      <td>device</td>\n",
       "      <td>False</td>\n",
       "      <td>0.010097</td>\n",
       "      <td>0.023585</td>\n",
       "      <td>0.028018</td>\n",
       "      <td>0.871685</td>\n",
       "      <td>0.020486</td>\n",
       "      <td>0.015860</td>\n",
       "      <td>0.020640</td>\n",
       "      <td>0.009631</td>\n",
       "    </tr>\n",
       "  </tbody>\n",
       "</table>\n",
       "<p>4600 rows × 18 columns</p>\n",
       "</div>"
      ],
      "text/plain": [
       "                                                   图像路径  标注类别ID      标注类别名称   \n",
       "0     data/SOD-SemanticDataset/test/COME15K-Easy/COM...       0    covering  \\\n",
       "1     data/SOD-SemanticDataset/test/COME15K-Easy/COM...       0    covering   \n",
       "2     data/SOD-SemanticDataset/test/COME15K-Easy/COM...       0    covering   \n",
       "3     data/SOD-SemanticDataset/test/COME15K-Easy/COM...       0    covering   \n",
       "4     data/SOD-SemanticDataset/test/COME15K-Easy/COM...       0    covering   \n",
       "...                                                 ...     ...         ...   \n",
       "4595  data/SOD-SemanticDataset/test/COME15K-Easy/COM...       7  vertebrate   \n",
       "4596  data/SOD-SemanticDataset/test/COME15K-Easy/COM...       7  vertebrate   \n",
       "4597  data/SOD-SemanticDataset/test/COME15K-Easy/COM...       7  vertebrate   \n",
       "4598  data/SOD-SemanticDataset/test/COME15K-Easy/COM...       7  vertebrate   \n",
       "4599  data/SOD-SemanticDataset/test/COME15K-Easy/COM...       7  vertebrate   \n",
       "\n",
       "      top-1-预测ID       top-1-预测名称  top-2-预测ID       top-2-预测名称  top-3-预测ID   \n",
       "0              3            mater           1           device           6  \\\n",
       "1              2  domestic_animal           4           person           0   \n",
       "2              4           person           6        structure           3   \n",
       "3              0         covering           4           person           6   \n",
       "4              4           person           0         covering           2   \n",
       "...          ...              ...         ...              ...         ...   \n",
       "4595           4           person           0         covering           3   \n",
       "4596           2  domestic_animal           7       vertebrate           6   \n",
       "4597           7       vertebrate           3            mater           1   \n",
       "4598           7       vertebrate           3            mater           2   \n",
       "4599           3            mater           2  domestic_animal           1   \n",
       "\n",
       "           top-3-预测名称  top-n预测正确  covering-预测置信度  device-预测置信度   \n",
       "0           structure      False        0.086643      0.303407  \\\n",
       "1            covering       True        0.198171      0.007125   \n",
       "2               mater      False        0.035153      0.015569   \n",
       "3           structure       True        0.648035      0.015356   \n",
       "4     domestic_animal       True        0.205372      0.004536   \n",
       "...               ...        ...             ...           ...   \n",
       "4595            mater      False        0.094164      0.011010   \n",
       "4596        structure       True        0.018885      0.034761   \n",
       "4597           device       True        0.005659      0.013612   \n",
       "4598  domestic_animal       True        0.016884      0.013057   \n",
       "4599           device      False        0.010097      0.023585   \n",
       "\n",
       "      domestic_animal-预测置信度  mater-预测置信度  person-预测置信度  plant-预测置信度   \n",
       "0                  0.024822     0.319769      0.077333     0.028980  \\\n",
       "1                  0.381032     0.024073      0.354935     0.008851   \n",
       "2                  0.026645     0.090572      0.568652     0.090391   \n",
       "3                  0.014455     0.017182      0.247620     0.021055   \n",
       "4                  0.008880     0.006328      0.760580     0.004671   \n",
       "...                     ...          ...           ...          ...   \n",
       "4595               0.011683     0.037626      0.811901     0.008652   \n",
       "4596               0.340070     0.142318      0.025168     0.012511   \n",
       "4597               0.008705     0.133622      0.005770     0.005831   \n",
       "4598               0.037283     0.114033      0.009336     0.015262   \n",
       "4599               0.028018     0.871685      0.020486     0.015860   \n",
       "\n",
       "      structure-预测置信度  vertebrate-预测置信度  \n",
       "0            0.114983          0.044064  \n",
       "1            0.005868          0.019946  \n",
       "2            0.133795          0.039223  \n",
       "3            0.022791          0.013507  \n",
       "4            0.005539          0.004093  \n",
       "...               ...               ...  \n",
       "4595         0.017354          0.007607  \n",
       "4596         0.145722          0.280566  \n",
       "4597         0.007665          0.819136  \n",
       "4598         0.011811          0.782334  \n",
       "4599         0.020640          0.009631  \n",
       "\n",
       "[4600 rows x 18 columns]"
      ]
     },
     "execution_count": 4,
     "metadata": {},
     "output_type": "execute_result"
    }
   ],
   "source": [
    "df"
   ]
  },
  {
   "cell_type": "markdown",
   "id": "9a8b96c3-1d5c-41af-9592-44b839b3f4e4",
   "metadata": {},
   "source": [
    "## 准确率"
   ]
  },
  {
   "cell_type": "code",
   "execution_count": 5,
   "id": "c9886ac3-4640-4ff3-8884-2206af037fac",
   "metadata": {
    "tags": []
   },
   "outputs": [
    {
     "data": {
      "text/plain": [
       "0.7584782608695653"
      ]
     },
     "execution_count": 5,
     "metadata": {},
     "output_type": "execute_result"
    }
   ],
   "source": [
    "sum(df['标注类别名称'] == df['top-1-预测名称']) / len(df)"
   ]
  },
  {
   "cell_type": "markdown",
   "id": "bf691ba6-ce59-4dcc-9305-109fe5dcb499",
   "metadata": {},
   "source": [
    "## top-n准确率"
   ]
  },
  {
   "cell_type": "code",
   "execution_count": 6,
   "id": "fedf6c0d-c06b-4a04-8a07-9d4c6f937338",
   "metadata": {
    "tags": []
   },
   "outputs": [
    {
     "data": {
      "text/plain": [
       "0.9526086956521739"
      ]
     },
     "execution_count": 6,
     "metadata": {},
     "output_type": "execute_result"
    }
   ],
   "source": [
    "sum(df['top-n预测正确']) / len(df)"
   ]
  },
  {
   "cell_type": "markdown",
   "id": "8a3de26a-3e66-404b-b64d-111835a7c0de",
   "metadata": {},
   "source": [
    "## 各类别其它评估指标\n",
    "\n",
    "公众号 人工智能小技巧 回复 混淆矩阵\n",
    "\n",
    "看子豪兄视频和笔记讲解"
   ]
  },
  {
   "cell_type": "code",
   "execution_count": 7,
   "id": "d1e22035-9163-427f-b620-d3bc079f8959",
   "metadata": {
    "tags": []
   },
   "outputs": [],
   "source": [
    "from sklearn.metrics import classification_report"
   ]
  },
  {
   "cell_type": "code",
   "execution_count": 8,
   "id": "18d3f8e3-8e57-42c0-97d2-62f1e33b5739",
   "metadata": {
    "tags": []
   },
   "outputs": [
    {
     "name": "stdout",
     "output_type": "stream",
     "text": [
      "                 precision    recall  f1-score   support\n",
      "\n",
      "       covering       0.51      0.34      0.41       342\n",
      "         device       0.75      0.54      0.63       408\n",
      "domestic_animal       0.83      0.95      0.89       475\n",
      "          mater       0.66      0.81      0.73       957\n",
      "         person       0.82      0.88      0.85      1380\n",
      "          plant       0.85      0.76      0.80       252\n",
      "      structure       0.58      0.47      0.52       240\n",
      "     vertebrate       0.89      0.74      0.81       546\n",
      "\n",
      "       accuracy                           0.76      4600\n",
      "      macro avg       0.74      0.69      0.70      4600\n",
      "   weighted avg       0.76      0.76      0.75      4600\n",
      "\n"
     ]
    }
   ],
   "source": [
    "print(classification_report(df['标注类别名称'], df['top-1-预测名称'], target_names=classes))"
   ]
  },
  {
   "cell_type": "markdown",
   "id": "df4db2a0-b1b2-4cff-92e5-fc097336b2ae",
   "metadata": {},
   "source": [
    "macro avg 宏平均：直接将每一类的评估指标求和取平均（算数平均值）\n",
    "\n",
    "weighted avg 加权平均：按样本数量（support）加权计算评估指标的平均值"
   ]
  },
  {
   "cell_type": "code",
   "execution_count": 9,
   "id": "64e2187b-a236-4518-a439-562e565739c5",
   "metadata": {
    "tags": []
   },
   "outputs": [],
   "source": [
    "report = classification_report(df['标注类别名称'], df['top-1-预测名称'], target_names=classes, output_dict=True)\n",
    "del report['accuracy']\n",
    "df_report = pd.DataFrame(report).transpose()"
   ]
  },
  {
   "cell_type": "code",
   "execution_count": 10,
   "id": "14266155-da0f-4c5d-9366-4273222fe600",
   "metadata": {
    "tags": []
   },
   "outputs": [
    {
     "data": {
      "text/html": [
       "<div>\n",
       "<style scoped>\n",
       "    .dataframe tbody tr th:only-of-type {\n",
       "        vertical-align: middle;\n",
       "    }\n",
       "\n",
       "    .dataframe tbody tr th {\n",
       "        vertical-align: top;\n",
       "    }\n",
       "\n",
       "    .dataframe thead th {\n",
       "        text-align: right;\n",
       "    }\n",
       "</style>\n",
       "<table border=\"1\" class=\"dataframe\">\n",
       "  <thead>\n",
       "    <tr style=\"text-align: right;\">\n",
       "      <th></th>\n",
       "      <th>precision</th>\n",
       "      <th>recall</th>\n",
       "      <th>f1-score</th>\n",
       "      <th>support</th>\n",
       "    </tr>\n",
       "  </thead>\n",
       "  <tbody>\n",
       "    <tr>\n",
       "      <th>covering</th>\n",
       "      <td>0.513158</td>\n",
       "      <td>0.342105</td>\n",
       "      <td>0.410526</td>\n",
       "      <td>342.0</td>\n",
       "    </tr>\n",
       "    <tr>\n",
       "      <th>device</th>\n",
       "      <td>0.745763</td>\n",
       "      <td>0.539216</td>\n",
       "      <td>0.625889</td>\n",
       "      <td>408.0</td>\n",
       "    </tr>\n",
       "    <tr>\n",
       "      <th>domestic_animal</th>\n",
       "      <td>0.834254</td>\n",
       "      <td>0.953684</td>\n",
       "      <td>0.889980</td>\n",
       "      <td>475.0</td>\n",
       "    </tr>\n",
       "    <tr>\n",
       "      <th>mater</th>\n",
       "      <td>0.657627</td>\n",
       "      <td>0.810867</td>\n",
       "      <td>0.726252</td>\n",
       "      <td>957.0</td>\n",
       "    </tr>\n",
       "    <tr>\n",
       "      <th>person</th>\n",
       "      <td>0.823051</td>\n",
       "      <td>0.879710</td>\n",
       "      <td>0.850438</td>\n",
       "      <td>1380.0</td>\n",
       "    </tr>\n",
       "    <tr>\n",
       "      <th>plant</th>\n",
       "      <td>0.845133</td>\n",
       "      <td>0.757937</td>\n",
       "      <td>0.799163</td>\n",
       "      <td>252.0</td>\n",
       "    </tr>\n",
       "    <tr>\n",
       "      <th>structure</th>\n",
       "      <td>0.575758</td>\n",
       "      <td>0.475000</td>\n",
       "      <td>0.520548</td>\n",
       "      <td>240.0</td>\n",
       "    </tr>\n",
       "    <tr>\n",
       "      <th>vertebrate</th>\n",
       "      <td>0.887912</td>\n",
       "      <td>0.739927</td>\n",
       "      <td>0.807193</td>\n",
       "      <td>546.0</td>\n",
       "    </tr>\n",
       "    <tr>\n",
       "      <th>macro avg</th>\n",
       "      <td>0.735332</td>\n",
       "      <td>0.687306</td>\n",
       "      <td>0.703749</td>\n",
       "      <td>4600.0</td>\n",
       "    </tr>\n",
       "    <tr>\n",
       "      <th>weighted avg</th>\n",
       "      <td>0.755904</td>\n",
       "      <td>0.758478</td>\n",
       "      <td>0.750908</td>\n",
       "      <td>4600.0</td>\n",
       "    </tr>\n",
       "  </tbody>\n",
       "</table>\n",
       "</div>"
      ],
      "text/plain": [
       "                 precision    recall  f1-score  support\n",
       "covering          0.513158  0.342105  0.410526    342.0\n",
       "device            0.745763  0.539216  0.625889    408.0\n",
       "domestic_animal   0.834254  0.953684  0.889980    475.0\n",
       "mater             0.657627  0.810867  0.726252    957.0\n",
       "person            0.823051  0.879710  0.850438   1380.0\n",
       "plant             0.845133  0.757937  0.799163    252.0\n",
       "structure         0.575758  0.475000  0.520548    240.0\n",
       "vertebrate        0.887912  0.739927  0.807193    546.0\n",
       "macro avg         0.735332  0.687306  0.703749   4600.0\n",
       "weighted avg      0.755904  0.758478  0.750908   4600.0"
      ]
     },
     "execution_count": 10,
     "metadata": {},
     "output_type": "execute_result"
    }
   ],
   "source": [
    "df_report"
   ]
  },
  {
   "cell_type": "markdown",
   "id": "a65da7a6-f1ba-4f86-8a89-11d87529f6c7",
   "metadata": {},
   "source": [
    "## 补充：各类别准确率（其实就是recall）"
   ]
  },
  {
   "cell_type": "code",
   "execution_count": 11,
   "id": "02d63458-49eb-4d8a-a264-2e09bb61bc6b",
   "metadata": {
    "tags": []
   },
   "outputs": [
    {
     "name": "stderr",
     "output_type": "stream",
     "text": [
      "100%|███████████████████████████████████████████| 8/8 [00:00<00:00, 1319.85it/s]\n"
     ]
    }
   ],
   "source": [
    "accuracy_list = []\n",
    "for element in tqdm(classes):\n",
    "    df_temp = df[df['标注类别名称']==element]\n",
    "    accuracy = sum(df_temp['标注类别名称'] == df_temp['top-1-预测名称']) / len(df_temp)\n",
    "    accuracy_list.append(accuracy)"
   ]
  },
  {
   "cell_type": "code",
   "execution_count": 12,
   "id": "24ca5a23-b6f3-4ce3-84af-262fa5d10edb",
   "metadata": {
    "tags": []
   },
   "outputs": [],
   "source": [
    "# 计算 宏平均准确率 和 加权平均准确率\n",
    "acc_macro = np.mean(accuracy_list)\n",
    "acc_weighted = sum(accuracy_list * df_report.iloc[:-2]['support'] / len(df))\n",
    "\n",
    "accuracy_list.append(acc_macro)\n",
    "accuracy_list.append(acc_weighted)\n",
    "\n",
    "df_report['accuracy'] = accuracy_list"
   ]
  },
  {
   "cell_type": "code",
   "execution_count": 13,
   "id": "6f4b0b49-a8f2-4647-bc68-22f83ce29cc2",
   "metadata": {
    "tags": []
   },
   "outputs": [
    {
     "data": {
      "text/html": [
       "<div>\n",
       "<style scoped>\n",
       "    .dataframe tbody tr th:only-of-type {\n",
       "        vertical-align: middle;\n",
       "    }\n",
       "\n",
       "    .dataframe tbody tr th {\n",
       "        vertical-align: top;\n",
       "    }\n",
       "\n",
       "    .dataframe thead th {\n",
       "        text-align: right;\n",
       "    }\n",
       "</style>\n",
       "<table border=\"1\" class=\"dataframe\">\n",
       "  <thead>\n",
       "    <tr style=\"text-align: right;\">\n",
       "      <th></th>\n",
       "      <th>precision</th>\n",
       "      <th>recall</th>\n",
       "      <th>f1-score</th>\n",
       "      <th>support</th>\n",
       "      <th>accuracy</th>\n",
       "    </tr>\n",
       "  </thead>\n",
       "  <tbody>\n",
       "    <tr>\n",
       "      <th>covering</th>\n",
       "      <td>0.513158</td>\n",
       "      <td>0.342105</td>\n",
       "      <td>0.410526</td>\n",
       "      <td>342.0</td>\n",
       "      <td>0.342105</td>\n",
       "    </tr>\n",
       "    <tr>\n",
       "      <th>device</th>\n",
       "      <td>0.745763</td>\n",
       "      <td>0.539216</td>\n",
       "      <td>0.625889</td>\n",
       "      <td>408.0</td>\n",
       "      <td>0.539216</td>\n",
       "    </tr>\n",
       "    <tr>\n",
       "      <th>domestic_animal</th>\n",
       "      <td>0.834254</td>\n",
       "      <td>0.953684</td>\n",
       "      <td>0.889980</td>\n",
       "      <td>475.0</td>\n",
       "      <td>0.953684</td>\n",
       "    </tr>\n",
       "    <tr>\n",
       "      <th>mater</th>\n",
       "      <td>0.657627</td>\n",
       "      <td>0.810867</td>\n",
       "      <td>0.726252</td>\n",
       "      <td>957.0</td>\n",
       "      <td>0.810867</td>\n",
       "    </tr>\n",
       "    <tr>\n",
       "      <th>person</th>\n",
       "      <td>0.823051</td>\n",
       "      <td>0.879710</td>\n",
       "      <td>0.850438</td>\n",
       "      <td>1380.0</td>\n",
       "      <td>0.879710</td>\n",
       "    </tr>\n",
       "    <tr>\n",
       "      <th>plant</th>\n",
       "      <td>0.845133</td>\n",
       "      <td>0.757937</td>\n",
       "      <td>0.799163</td>\n",
       "      <td>252.0</td>\n",
       "      <td>0.757937</td>\n",
       "    </tr>\n",
       "    <tr>\n",
       "      <th>structure</th>\n",
       "      <td>0.575758</td>\n",
       "      <td>0.475000</td>\n",
       "      <td>0.520548</td>\n",
       "      <td>240.0</td>\n",
       "      <td>0.475000</td>\n",
       "    </tr>\n",
       "    <tr>\n",
       "      <th>vertebrate</th>\n",
       "      <td>0.887912</td>\n",
       "      <td>0.739927</td>\n",
       "      <td>0.807193</td>\n",
       "      <td>546.0</td>\n",
       "      <td>0.739927</td>\n",
       "    </tr>\n",
       "    <tr>\n",
       "      <th>macro avg</th>\n",
       "      <td>0.735332</td>\n",
       "      <td>0.687306</td>\n",
       "      <td>0.703749</td>\n",
       "      <td>4600.0</td>\n",
       "      <td>0.687306</td>\n",
       "    </tr>\n",
       "    <tr>\n",
       "      <th>weighted avg</th>\n",
       "      <td>0.755904</td>\n",
       "      <td>0.758478</td>\n",
       "      <td>0.750908</td>\n",
       "      <td>4600.0</td>\n",
       "      <td>0.758478</td>\n",
       "    </tr>\n",
       "  </tbody>\n",
       "</table>\n",
       "</div>"
      ],
      "text/plain": [
       "                 precision    recall  f1-score  support  accuracy\n",
       "covering          0.513158  0.342105  0.410526    342.0  0.342105\n",
       "device            0.745763  0.539216  0.625889    408.0  0.539216\n",
       "domestic_animal   0.834254  0.953684  0.889980    475.0  0.953684\n",
       "mater             0.657627  0.810867  0.726252    957.0  0.810867\n",
       "person            0.823051  0.879710  0.850438   1380.0  0.879710\n",
       "plant             0.845133  0.757937  0.799163    252.0  0.757937\n",
       "structure         0.575758  0.475000  0.520548    240.0  0.475000\n",
       "vertebrate        0.887912  0.739927  0.807193    546.0  0.739927\n",
       "macro avg         0.735332  0.687306  0.703749   4600.0  0.687306\n",
       "weighted avg      0.755904  0.758478  0.750908   4600.0  0.758478"
      ]
     },
     "execution_count": 13,
     "metadata": {},
     "output_type": "execute_result"
    }
   ],
   "source": [
    "df_report"
   ]
  },
  {
   "cell_type": "code",
   "execution_count": 14,
   "id": "123e15a8-a48f-4cf6-b1de-0bf1ab673962",
   "metadata": {
    "tags": []
   },
   "outputs": [],
   "source": [
    "df_report.to_csv(model_path + dataset_name + '-各类别准确率评估指标.csv', index_label='类别')"
   ]
  },
  {
   "cell_type": "code",
   "execution_count": null,
   "id": "386536ae-7c69-491d-832c-d0b2aa8f64f0",
   "metadata": {},
   "outputs": [],
   "source": []
  }
 ],
 "metadata": {
  "kernelspec": {
   "display_name": "Python [conda env:SemanticTest]",
   "language": "python",
   "name": "conda-env-SemanticTest-py"
  },
  "language_info": {
   "codemirror_mode": {
    "name": "ipython",
    "version": 3
   },
   "file_extension": ".py",
   "mimetype": "text/x-python",
   "name": "python",
   "nbconvert_exporter": "python",
   "pygments_lexer": "ipython3",
   "version": "3.8.16"
  }
 },
 "nbformat": 4,
 "nbformat_minor": 5
}