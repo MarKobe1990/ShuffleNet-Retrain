{
 "cells": [
  {
   "cell_type": "markdown",
   "id": "2a22969d-14d8-430d-84af-2ce7c2e5cf29",
   "metadata": {},
   "source": [
    "# 测试集总体准确率评估指标\n",
    "\n",
    "分析测试集预测结果表格，计算总体准确率评估指标和各类别准确率评估指标。"
   ]
  },
  {
   "cell_type": "markdown",
   "id": "6126ed04-a127-4d55-8a4b-aeb5d440039c",
   "metadata": {},
   "source": [
    "## 导入工具包"
   ]
  },
  {
   "cell_type": "code",
   "execution_count": 1,
   "id": "4c48d4e8-5de7-4d6f-9e6d-c5f799f1223d",
   "metadata": {
    "tags": []
   },
   "outputs": [],
   "source": [
    "import pandas as pd\n",
    "import numpy as np\n",
    "from tqdm import tqdm"
   ]
  },
  {
   "cell_type": "markdown",
   "id": "f1d831d0-8192-4db6-b913-ef7327463f35",
   "metadata": {},
   "source": [
    "## 载入类别名称和ID"
   ]
  },
  {
   "cell_type": "code",
   "execution_count": 2,
   "id": "00c507c4-c990-4326-b479-4b18e8aa50da",
   "metadata": {
    "tags": []
   },
   "outputs": [
    {
     "name": "stdout",
     "output_type": "stream",
     "text": [
      "['covering', 'device', 'domestic_animal', 'mater', 'person', 'plant', 'structure', 'vertebrate']\n"
     ]
    }
   ],
   "source": [
    "dataset_name = 'test_easy_classes'\n",
    "model_path = './models/2023-10-09-01-47_max_epoch_100/'\n",
    "\n",
    "# 类别名称 和 ID索引号 的映射字典\n",
    "class_names_dic = {0: 'covering', 1: 'device', 2: 'domestic_animal', 3: 'mater', 4: 'person', 5: 'plant',\n",
    "                       6: 'structure', 7: 'vertebrate'}\n",
    "# 获得类别名称\n",
    "classes = list(class_names_dic.values())\n",
    "print(classes)"
   ]
  },
  {
   "cell_type": "markdown",
   "id": "6068dc94-5b85-44ae-a373-7d531a57f5a4",
   "metadata": {},
   "source": [
    "## 载入类别名称和ID"
   ]
  },
  {
   "cell_type": "code",
   "execution_count": 18,
   "id": "d83ae0d4-f9f5-4040-8235-09c39aec76de",
   "metadata": {
    "tags": []
   },
   "outputs": [
    {
     "name": "stdout",
     "output_type": "stream",
     "text": [
      "['covering', 'device', 'domestic_animal', 'mater', 'person', 'plant', 'structure', 'vertebrate']\n"
     ]
    }
   ],
   "source": [
    "dataset_name = 'test_hard_classes'\n",
    "model_path = './models/2023-10-09-01-47_max_epoch_100/'\n",
    "\n",
    "# 类别名称 和 ID索引号 的映射字典\n",
    "class_names_dic = {0: 'covering', 1: 'device', 2: 'domestic_animal', 3: 'mater', 4: 'person', 5: 'plant',\n",
    "                       6: 'structure', 7: 'vertebrate'}\n",
    "# 获得类别名称\n",
    "classes = list(class_names_dic.values())\n",
    "print(classes)"
   ]
  },
  {
   "cell_type": "markdown",
   "id": "a25de944-2532-472c-af77-6b8eaacfa916",
   "metadata": {},
   "source": [
    "## 载入测试集预测结果表格"
   ]
  },
  {
   "cell_type": "code",
   "execution_count": 19,
   "id": "42c95441-d023-4fc2-897b-3f6a7f86e017",
   "metadata": {
    "tags": []
   },
   "outputs": [],
   "source": [
    "df = pd.read_csv(model_path + dataset_name +'-测试集预测结果.csv')"
   ]
  },
  {
   "cell_type": "code",
   "execution_count": 20,
   "id": "917a75bd-bd3f-4105-aa3c-0fce5e4d1fda",
   "metadata": {
    "tags": []
   },
   "outputs": [
    {
     "data": {
      "text/html": [
       "<div>\n",
       "<style scoped>\n",
       "    .dataframe tbody tr th:only-of-type {\n",
       "        vertical-align: middle;\n",
       "    }\n",
       "\n",
       "    .dataframe tbody tr th {\n",
       "        vertical-align: top;\n",
       "    }\n",
       "\n",
       "    .dataframe thead th {\n",
       "        text-align: right;\n",
       "    }\n",
       "</style>\n",
       "<table border=\"1\" class=\"dataframe\">\n",
       "  <thead>\n",
       "    <tr style=\"text-align: right;\">\n",
       "      <th></th>\n",
       "      <th>图像路径</th>\n",
       "      <th>标注类别ID</th>\n",
       "      <th>标注类别名称</th>\n",
       "      <th>top-1-预测ID</th>\n",
       "      <th>top-1-预测名称</th>\n",
       "      <th>top-2-预测ID</th>\n",
       "      <th>top-2-预测名称</th>\n",
       "      <th>top-3-预测ID</th>\n",
       "      <th>top-3-预测名称</th>\n",
       "      <th>top-n预测正确</th>\n",
       "      <th>covering-预测置信度</th>\n",
       "      <th>device-预测置信度</th>\n",
       "      <th>domestic_animal-预测置信度</th>\n",
       "      <th>mater-预测置信度</th>\n",
       "      <th>person-预测置信度</th>\n",
       "      <th>plant-预测置信度</th>\n",
       "      <th>structure-预测置信度</th>\n",
       "      <th>vertebrate-预测置信度</th>\n",
       "    </tr>\n",
       "  </thead>\n",
       "  <tbody>\n",
       "    <tr>\n",
       "      <th>0</th>\n",
       "      <td>data/SOD-SemanticDataset/test/COME15K-Hard/COM...</td>\n",
       "      <td>0</td>\n",
       "      <td>covering</td>\n",
       "      <td>0</td>\n",
       "      <td>covering</td>\n",
       "      <td>4</td>\n",
       "      <td>person</td>\n",
       "      <td>3</td>\n",
       "      <td>mater</td>\n",
       "      <td>True</td>\n",
       "      <td>0.801112</td>\n",
       "      <td>0.006859</td>\n",
       "      <td>0.002550</td>\n",
       "      <td>0.015600</td>\n",
       "      <td>0.158353</td>\n",
       "      <td>0.006221</td>\n",
       "      <td>0.005665</td>\n",
       "      <td>0.003641</td>\n",
       "    </tr>\n",
       "    <tr>\n",
       "      <th>1</th>\n",
       "      <td>data/SOD-SemanticDataset/test/COME15K-Hard/COM...</td>\n",
       "      <td>0</td>\n",
       "      <td>covering</td>\n",
       "      <td>6</td>\n",
       "      <td>structure</td>\n",
       "      <td>3</td>\n",
       "      <td>mater</td>\n",
       "      <td>0</td>\n",
       "      <td>covering</td>\n",
       "      <td>True</td>\n",
       "      <td>0.113383</td>\n",
       "      <td>0.027640</td>\n",
       "      <td>0.006023</td>\n",
       "      <td>0.259255</td>\n",
       "      <td>0.044438</td>\n",
       "      <td>0.006826</td>\n",
       "      <td>0.538320</td>\n",
       "      <td>0.004116</td>\n",
       "    </tr>\n",
       "    <tr>\n",
       "      <th>2</th>\n",
       "      <td>data/SOD-SemanticDataset/test/COME15K-Hard/COM...</td>\n",
       "      <td>0</td>\n",
       "      <td>covering</td>\n",
       "      <td>0</td>\n",
       "      <td>covering</td>\n",
       "      <td>4</td>\n",
       "      <td>person</td>\n",
       "      <td>2</td>\n",
       "      <td>domestic_animal</td>\n",
       "      <td>True</td>\n",
       "      <td>0.600943</td>\n",
       "      <td>0.008280</td>\n",
       "      <td>0.050587</td>\n",
       "      <td>0.032752</td>\n",
       "      <td>0.277345</td>\n",
       "      <td>0.005105</td>\n",
       "      <td>0.013126</td>\n",
       "      <td>0.011862</td>\n",
       "    </tr>\n",
       "    <tr>\n",
       "      <th>3</th>\n",
       "      <td>data/SOD-SemanticDataset/test/COME15K-Hard/COM...</td>\n",
       "      <td>0</td>\n",
       "      <td>covering</td>\n",
       "      <td>4</td>\n",
       "      <td>person</td>\n",
       "      <td>3</td>\n",
       "      <td>mater</td>\n",
       "      <td>1</td>\n",
       "      <td>device</td>\n",
       "      <td>False</td>\n",
       "      <td>0.017682</td>\n",
       "      <td>0.046715</td>\n",
       "      <td>0.005153</td>\n",
       "      <td>0.087193</td>\n",
       "      <td>0.813342</td>\n",
       "      <td>0.003787</td>\n",
       "      <td>0.019615</td>\n",
       "      <td>0.006513</td>\n",
       "    </tr>\n",
       "    <tr>\n",
       "      <th>4</th>\n",
       "      <td>data/SOD-SemanticDataset/test/COME15K-Hard/COM...</td>\n",
       "      <td>0</td>\n",
       "      <td>covering</td>\n",
       "      <td>0</td>\n",
       "      <td>covering</td>\n",
       "      <td>3</td>\n",
       "      <td>mater</td>\n",
       "      <td>4</td>\n",
       "      <td>person</td>\n",
       "      <td>True</td>\n",
       "      <td>0.681542</td>\n",
       "      <td>0.039885</td>\n",
       "      <td>0.012647</td>\n",
       "      <td>0.156968</td>\n",
       "      <td>0.054006</td>\n",
       "      <td>0.019469</td>\n",
       "      <td>0.012044</td>\n",
       "      <td>0.023439</td>\n",
       "    </tr>\n",
       "    <tr>\n",
       "      <th>...</th>\n",
       "      <td>...</td>\n",
       "      <td>...</td>\n",
       "      <td>...</td>\n",
       "      <td>...</td>\n",
       "      <td>...</td>\n",
       "      <td>...</td>\n",
       "      <td>...</td>\n",
       "      <td>...</td>\n",
       "      <td>...</td>\n",
       "      <td>...</td>\n",
       "      <td>...</td>\n",
       "      <td>...</td>\n",
       "      <td>...</td>\n",
       "      <td>...</td>\n",
       "      <td>...</td>\n",
       "      <td>...</td>\n",
       "      <td>...</td>\n",
       "      <td>...</td>\n",
       "    </tr>\n",
       "    <tr>\n",
       "      <th>2995</th>\n",
       "      <td>data/SOD-SemanticDataset/test/COME15K-Hard/COM...</td>\n",
       "      <td>7</td>\n",
       "      <td>vertebrate</td>\n",
       "      <td>7</td>\n",
       "      <td>vertebrate</td>\n",
       "      <td>1</td>\n",
       "      <td>device</td>\n",
       "      <td>6</td>\n",
       "      <td>structure</td>\n",
       "      <td>True</td>\n",
       "      <td>0.018748</td>\n",
       "      <td>0.050075</td>\n",
       "      <td>0.029230</td>\n",
       "      <td>0.023156</td>\n",
       "      <td>0.016222</td>\n",
       "      <td>0.007441</td>\n",
       "      <td>0.029833</td>\n",
       "      <td>0.825294</td>\n",
       "    </tr>\n",
       "    <tr>\n",
       "      <th>2996</th>\n",
       "      <td>data/SOD-SemanticDataset/test/COME15K-Hard/COM...</td>\n",
       "      <td>7</td>\n",
       "      <td>vertebrate</td>\n",
       "      <td>7</td>\n",
       "      <td>vertebrate</td>\n",
       "      <td>2</td>\n",
       "      <td>domestic_animal</td>\n",
       "      <td>3</td>\n",
       "      <td>mater</td>\n",
       "      <td>True</td>\n",
       "      <td>0.007847</td>\n",
       "      <td>0.007994</td>\n",
       "      <td>0.034859</td>\n",
       "      <td>0.017137</td>\n",
       "      <td>0.005244</td>\n",
       "      <td>0.010045</td>\n",
       "      <td>0.011848</td>\n",
       "      <td>0.905025</td>\n",
       "    </tr>\n",
       "    <tr>\n",
       "      <th>2997</th>\n",
       "      <td>data/SOD-SemanticDataset/test/COME15K-Hard/COM...</td>\n",
       "      <td>7</td>\n",
       "      <td>vertebrate</td>\n",
       "      <td>4</td>\n",
       "      <td>person</td>\n",
       "      <td>2</td>\n",
       "      <td>domestic_animal</td>\n",
       "      <td>0</td>\n",
       "      <td>covering</td>\n",
       "      <td>False</td>\n",
       "      <td>0.161484</td>\n",
       "      <td>0.028713</td>\n",
       "      <td>0.182587</td>\n",
       "      <td>0.118627</td>\n",
       "      <td>0.270123</td>\n",
       "      <td>0.044836</td>\n",
       "      <td>0.039717</td>\n",
       "      <td>0.153913</td>\n",
       "    </tr>\n",
       "    <tr>\n",
       "      <th>2998</th>\n",
       "      <td>data/SOD-SemanticDataset/test/COME15K-Hard/COM...</td>\n",
       "      <td>7</td>\n",
       "      <td>vertebrate</td>\n",
       "      <td>3</td>\n",
       "      <td>mater</td>\n",
       "      <td>7</td>\n",
       "      <td>vertebrate</td>\n",
       "      <td>5</td>\n",
       "      <td>plant</td>\n",
       "      <td>True</td>\n",
       "      <td>0.011064</td>\n",
       "      <td>0.021489</td>\n",
       "      <td>0.010262</td>\n",
       "      <td>0.727496</td>\n",
       "      <td>0.012829</td>\n",
       "      <td>0.033282</td>\n",
       "      <td>0.020166</td>\n",
       "      <td>0.163411</td>\n",
       "    </tr>\n",
       "    <tr>\n",
       "      <th>2999</th>\n",
       "      <td>data/SOD-SemanticDataset/test/COME15K-Hard/COM...</td>\n",
       "      <td>7</td>\n",
       "      <td>vertebrate</td>\n",
       "      <td>3</td>\n",
       "      <td>mater</td>\n",
       "      <td>7</td>\n",
       "      <td>vertebrate</td>\n",
       "      <td>5</td>\n",
       "      <td>plant</td>\n",
       "      <td>True</td>\n",
       "      <td>0.024494</td>\n",
       "      <td>0.043309</td>\n",
       "      <td>0.027436</td>\n",
       "      <td>0.584705</td>\n",
       "      <td>0.023893</td>\n",
       "      <td>0.097489</td>\n",
       "      <td>0.012527</td>\n",
       "      <td>0.186148</td>\n",
       "    </tr>\n",
       "  </tbody>\n",
       "</table>\n",
       "<p>3000 rows × 18 columns</p>\n",
       "</div>"
      ],
      "text/plain": [
       "                                                   图像路径  标注类别ID      标注类别名称   \n",
       "0     data/SOD-SemanticDataset/test/COME15K-Hard/COM...       0    covering  \\\n",
       "1     data/SOD-SemanticDataset/test/COME15K-Hard/COM...       0    covering   \n",
       "2     data/SOD-SemanticDataset/test/COME15K-Hard/COM...       0    covering   \n",
       "3     data/SOD-SemanticDataset/test/COME15K-Hard/COM...       0    covering   \n",
       "4     data/SOD-SemanticDataset/test/COME15K-Hard/COM...       0    covering   \n",
       "...                                                 ...     ...         ...   \n",
       "2995  data/SOD-SemanticDataset/test/COME15K-Hard/COM...       7  vertebrate   \n",
       "2996  data/SOD-SemanticDataset/test/COME15K-Hard/COM...       7  vertebrate   \n",
       "2997  data/SOD-SemanticDataset/test/COME15K-Hard/COM...       7  vertebrate   \n",
       "2998  data/SOD-SemanticDataset/test/COME15K-Hard/COM...       7  vertebrate   \n",
       "2999  data/SOD-SemanticDataset/test/COME15K-Hard/COM...       7  vertebrate   \n",
       "\n",
       "      top-1-预测ID  top-1-预测名称  top-2-预测ID       top-2-预测名称  top-3-预测ID   \n",
       "0              0    covering           4           person           3  \\\n",
       "1              6   structure           3            mater           0   \n",
       "2              0    covering           4           person           2   \n",
       "3              4      person           3            mater           1   \n",
       "4              0    covering           3            mater           4   \n",
       "...          ...         ...         ...              ...         ...   \n",
       "2995           7  vertebrate           1           device           6   \n",
       "2996           7  vertebrate           2  domestic_animal           3   \n",
       "2997           4      person           2  domestic_animal           0   \n",
       "2998           3       mater           7       vertebrate           5   \n",
       "2999           3       mater           7       vertebrate           5   \n",
       "\n",
       "           top-3-预测名称  top-n预测正确  covering-预测置信度  device-预测置信度   \n",
       "0               mater       True        0.801112      0.006859  \\\n",
       "1            covering       True        0.113383      0.027640   \n",
       "2     domestic_animal       True        0.600943      0.008280   \n",
       "3              device      False        0.017682      0.046715   \n",
       "4              person       True        0.681542      0.039885   \n",
       "...               ...        ...             ...           ...   \n",
       "2995        structure       True        0.018748      0.050075   \n",
       "2996            mater       True        0.007847      0.007994   \n",
       "2997         covering      False        0.161484      0.028713   \n",
       "2998            plant       True        0.011064      0.021489   \n",
       "2999            plant       True        0.024494      0.043309   \n",
       "\n",
       "      domestic_animal-预测置信度  mater-预测置信度  person-预测置信度  plant-预测置信度   \n",
       "0                  0.002550     0.015600      0.158353     0.006221  \\\n",
       "1                  0.006023     0.259255      0.044438     0.006826   \n",
       "2                  0.050587     0.032752      0.277345     0.005105   \n",
       "3                  0.005153     0.087193      0.813342     0.003787   \n",
       "4                  0.012647     0.156968      0.054006     0.019469   \n",
       "...                     ...          ...           ...          ...   \n",
       "2995               0.029230     0.023156      0.016222     0.007441   \n",
       "2996               0.034859     0.017137      0.005244     0.010045   \n",
       "2997               0.182587     0.118627      0.270123     0.044836   \n",
       "2998               0.010262     0.727496      0.012829     0.033282   \n",
       "2999               0.027436     0.584705      0.023893     0.097489   \n",
       "\n",
       "      structure-预测置信度  vertebrate-预测置信度  \n",
       "0            0.005665          0.003641  \n",
       "1            0.538320          0.004116  \n",
       "2            0.013126          0.011862  \n",
       "3            0.019615          0.006513  \n",
       "4            0.012044          0.023439  \n",
       "...               ...               ...  \n",
       "2995         0.029833          0.825294  \n",
       "2996         0.011848          0.905025  \n",
       "2997         0.039717          0.153913  \n",
       "2998         0.020166          0.163411  \n",
       "2999         0.012527          0.186148  \n",
       "\n",
       "[3000 rows x 18 columns]"
      ]
     },
     "execution_count": 20,
     "metadata": {},
     "output_type": "execute_result"
    }
   ],
   "source": [
    "df"
   ]
  },
  {
   "cell_type": "markdown",
   "id": "9a8b96c3-1d5c-41af-9592-44b839b3f4e4",
   "metadata": {},
   "source": [
    "## 准确率"
   ]
  },
  {
   "cell_type": "code",
   "execution_count": 21,
   "id": "c9886ac3-4640-4ff3-8884-2206af037fac",
   "metadata": {
    "tags": []
   },
   "outputs": [
    {
     "data": {
      "text/plain": [
       "0.7276666666666667"
      ]
     },
     "execution_count": 21,
     "metadata": {},
     "output_type": "execute_result"
    }
   ],
   "source": [
    "sum(df['标注类别名称'] == df['top-1-预测名称']) / len(df)"
   ]
  },
  {
   "cell_type": "markdown",
   "id": "bf691ba6-ce59-4dcc-9305-109fe5dcb499",
   "metadata": {},
   "source": [
    "## top-n准确率"
   ]
  },
  {
   "cell_type": "code",
   "execution_count": 22,
   "id": "fedf6c0d-c06b-4a04-8a07-9d4c6f937338",
   "metadata": {
    "tags": []
   },
   "outputs": [
    {
     "data": {
      "text/plain": [
       "0.914"
      ]
     },
     "execution_count": 22,
     "metadata": {},
     "output_type": "execute_result"
    }
   ],
   "source": [
    "sum(df['top-n预测正确']) / len(df)"
   ]
  },
  {
   "cell_type": "markdown",
   "id": "8a3de26a-3e66-404b-b64d-111835a7c0de",
   "metadata": {},
   "source": [
    "## 各类别其它评估指标\n",
    "\n",
    "公众号 人工智能小技巧 回复 混淆矩阵\n",
    "\n",
    "看子豪兄视频和笔记讲解"
   ]
  },
  {
   "cell_type": "code",
   "execution_count": 23,
   "id": "d1e22035-9163-427f-b620-d3bc079f8959",
   "metadata": {
    "tags": []
   },
   "outputs": [],
   "source": [
    "from sklearn.metrics import classification_report"
   ]
  },
  {
   "cell_type": "code",
   "execution_count": 24,
   "id": "18d3f8e3-8e57-42c0-97d2-62f1e33b5739",
   "metadata": {
    "tags": []
   },
   "outputs": [
    {
     "name": "stdout",
     "output_type": "stream",
     "text": [
      "                 precision    recall  f1-score   support\n",
      "\n",
      "       covering       0.65      0.31      0.42       229\n",
      "         device       0.80      0.41      0.54       511\n",
      "domestic_animal       0.88      0.96      0.92       266\n",
      "          mater       0.62      0.86      0.72       585\n",
      "         person       0.72      0.90      0.80       793\n",
      "          plant       0.84      0.75      0.79       184\n",
      "      structure       0.57      0.52      0.54       137\n",
      "     vertebrate       0.90      0.75      0.82       295\n",
      "\n",
      "       accuracy                           0.73      3000\n",
      "      macro avg       0.75      0.68      0.69      3000\n",
      "   weighted avg       0.74      0.73      0.71      3000\n",
      "\n"
     ]
    }
   ],
   "source": [
    "print(classification_report(df['标注类别名称'], df['top-1-预测名称'], target_names=classes))"
   ]
  },
  {
   "cell_type": "markdown",
   "id": "df4db2a0-b1b2-4cff-92e5-fc097336b2ae",
   "metadata": {},
   "source": [
    "macro avg 宏平均：直接将每一类的评估指标求和取平均（算数平均值）\n",
    "\n",
    "weighted avg 加权平均：按样本数量（support）加权计算评估指标的平均值"
   ]
  },
  {
   "cell_type": "code",
   "execution_count": 25,
   "id": "64e2187b-a236-4518-a439-562e565739c5",
   "metadata": {
    "tags": []
   },
   "outputs": [],
   "source": [
    "report = classification_report(df['标注类别名称'], df['top-1-预测名称'], target_names=classes, output_dict=True)\n",
    "del report['accuracy']\n",
    "df_report = pd.DataFrame(report).transpose()"
   ]
  },
  {
   "cell_type": "code",
   "execution_count": 26,
   "id": "14266155-da0f-4c5d-9366-4273222fe600",
   "metadata": {
    "tags": []
   },
   "outputs": [
    {
     "data": {
      "text/html": [
       "<div>\n",
       "<style scoped>\n",
       "    .dataframe tbody tr th:only-of-type {\n",
       "        vertical-align: middle;\n",
       "    }\n",
       "\n",
       "    .dataframe tbody tr th {\n",
       "        vertical-align: top;\n",
       "    }\n",
       "\n",
       "    .dataframe thead th {\n",
       "        text-align: right;\n",
       "    }\n",
       "</style>\n",
       "<table border=\"1\" class=\"dataframe\">\n",
       "  <thead>\n",
       "    <tr style=\"text-align: right;\">\n",
       "      <th></th>\n",
       "      <th>precision</th>\n",
       "      <th>recall</th>\n",
       "      <th>f1-score</th>\n",
       "      <th>support</th>\n",
       "    </tr>\n",
       "  </thead>\n",
       "  <tbody>\n",
       "    <tr>\n",
       "      <th>covering</th>\n",
       "      <td>0.651376</td>\n",
       "      <td>0.310044</td>\n",
       "      <td>0.420118</td>\n",
       "      <td>229.0</td>\n",
       "    </tr>\n",
       "    <tr>\n",
       "      <th>device</th>\n",
       "      <td>0.799228</td>\n",
       "      <td>0.405088</td>\n",
       "      <td>0.537662</td>\n",
       "      <td>511.0</td>\n",
       "    </tr>\n",
       "    <tr>\n",
       "      <th>domestic_animal</th>\n",
       "      <td>0.882759</td>\n",
       "      <td>0.962406</td>\n",
       "      <td>0.920863</td>\n",
       "      <td>266.0</td>\n",
       "    </tr>\n",
       "    <tr>\n",
       "      <th>mater</th>\n",
       "      <td>0.615196</td>\n",
       "      <td>0.858120</td>\n",
       "      <td>0.716631</td>\n",
       "      <td>585.0</td>\n",
       "    </tr>\n",
       "    <tr>\n",
       "      <th>person</th>\n",
       "      <td>0.722503</td>\n",
       "      <td>0.902900</td>\n",
       "      <td>0.802691</td>\n",
       "      <td>793.0</td>\n",
       "    </tr>\n",
       "    <tr>\n",
       "      <th>plant</th>\n",
       "      <td>0.836364</td>\n",
       "      <td>0.750000</td>\n",
       "      <td>0.790831</td>\n",
       "      <td>184.0</td>\n",
       "    </tr>\n",
       "    <tr>\n",
       "      <th>structure</th>\n",
       "      <td>0.572581</td>\n",
       "      <td>0.518248</td>\n",
       "      <td>0.544061</td>\n",
       "      <td>137.0</td>\n",
       "    </tr>\n",
       "    <tr>\n",
       "      <th>vertebrate</th>\n",
       "      <td>0.902439</td>\n",
       "      <td>0.752542</td>\n",
       "      <td>0.820702</td>\n",
       "      <td>295.0</td>\n",
       "    </tr>\n",
       "    <tr>\n",
       "      <th>macro avg</th>\n",
       "      <td>0.747806</td>\n",
       "      <td>0.682419</td>\n",
       "      <td>0.694195</td>\n",
       "      <td>3000.0</td>\n",
       "    </tr>\n",
       "    <tr>\n",
       "      <th>weighted avg</th>\n",
       "      <td>0.741258</td>\n",
       "      <td>0.727667</td>\n",
       "      <td>0.711274</td>\n",
       "      <td>3000.0</td>\n",
       "    </tr>\n",
       "  </tbody>\n",
       "</table>\n",
       "</div>"
      ],
      "text/plain": [
       "                 precision    recall  f1-score  support\n",
       "covering          0.651376  0.310044  0.420118    229.0\n",
       "device            0.799228  0.405088  0.537662    511.0\n",
       "domestic_animal   0.882759  0.962406  0.920863    266.0\n",
       "mater             0.615196  0.858120  0.716631    585.0\n",
       "person            0.722503  0.902900  0.802691    793.0\n",
       "plant             0.836364  0.750000  0.790831    184.0\n",
       "structure         0.572581  0.518248  0.544061    137.0\n",
       "vertebrate        0.902439  0.752542  0.820702    295.0\n",
       "macro avg         0.747806  0.682419  0.694195   3000.0\n",
       "weighted avg      0.741258  0.727667  0.711274   3000.0"
      ]
     },
     "execution_count": 26,
     "metadata": {},
     "output_type": "execute_result"
    }
   ],
   "source": [
    "df_report"
   ]
  },
  {
   "cell_type": "markdown",
   "id": "a65da7a6-f1ba-4f86-8a89-11d87529f6c7",
   "metadata": {},
   "source": [
    "## 补充：各类别准确率（其实就是recall）"
   ]
  },
  {
   "cell_type": "code",
   "execution_count": 27,
   "id": "02d63458-49eb-4d8a-a264-2e09bb61bc6b",
   "metadata": {
    "tags": []
   },
   "outputs": [
    {
     "name": "stderr",
     "output_type": "stream",
     "text": [
      "100%|███████████████████████████████████████████| 8/8 [00:00<00:00, 2493.09it/s]\n"
     ]
    }
   ],
   "source": [
    "accuracy_list = []\n",
    "for element in tqdm(classes):\n",
    "    df_temp = df[df['标注类别名称']==element]\n",
    "    accuracy = sum(df_temp['标注类别名称'] == df_temp['top-1-预测名称']) / len(df_temp)\n",
    "    accuracy_list.append(accuracy)"
   ]
  },
  {
   "cell_type": "code",
   "execution_count": 28,
   "id": "24ca5a23-b6f3-4ce3-84af-262fa5d10edb",
   "metadata": {
    "tags": []
   },
   "outputs": [],
   "source": [
    "# 计算 宏平均准确率 和 加权平均准确率\n",
    "acc_macro = np.mean(accuracy_list)\n",
    "acc_weighted = sum(accuracy_list * df_report.iloc[:-2]['support'] / len(df))\n",
    "\n",
    "accuracy_list.append(acc_macro)\n",
    "accuracy_list.append(acc_weighted)\n",
    "\n",
    "df_report['accuracy'] = accuracy_list"
   ]
  },
  {
   "cell_type": "code",
   "execution_count": 29,
   "id": "6f4b0b49-a8f2-4647-bc68-22f83ce29cc2",
   "metadata": {
    "tags": []
   },
   "outputs": [
    {
     "data": {
      "text/html": [
       "<div>\n",
       "<style scoped>\n",
       "    .dataframe tbody tr th:only-of-type {\n",
       "        vertical-align: middle;\n",
       "    }\n",
       "\n",
       "    .dataframe tbody tr th {\n",
       "        vertical-align: top;\n",
       "    }\n",
       "\n",
       "    .dataframe thead th {\n",
       "        text-align: right;\n",
       "    }\n",
       "</style>\n",
       "<table border=\"1\" class=\"dataframe\">\n",
       "  <thead>\n",
       "    <tr style=\"text-align: right;\">\n",
       "      <th></th>\n",
       "      <th>precision</th>\n",
       "      <th>recall</th>\n",
       "      <th>f1-score</th>\n",
       "      <th>support</th>\n",
       "      <th>accuracy</th>\n",
       "    </tr>\n",
       "  </thead>\n",
       "  <tbody>\n",
       "    <tr>\n",
       "      <th>covering</th>\n",
       "      <td>0.651376</td>\n",
       "      <td>0.310044</td>\n",
       "      <td>0.420118</td>\n",
       "      <td>229.0</td>\n",
       "      <td>0.310044</td>\n",
       "    </tr>\n",
       "    <tr>\n",
       "      <th>device</th>\n",
       "      <td>0.799228</td>\n",
       "      <td>0.405088</td>\n",
       "      <td>0.537662</td>\n",
       "      <td>511.0</td>\n",
       "      <td>0.405088</td>\n",
       "    </tr>\n",
       "    <tr>\n",
       "      <th>domestic_animal</th>\n",
       "      <td>0.882759</td>\n",
       "      <td>0.962406</td>\n",
       "      <td>0.920863</td>\n",
       "      <td>266.0</td>\n",
       "      <td>0.962406</td>\n",
       "    </tr>\n",
       "    <tr>\n",
       "      <th>mater</th>\n",
       "      <td>0.615196</td>\n",
       "      <td>0.858120</td>\n",
       "      <td>0.716631</td>\n",
       "      <td>585.0</td>\n",
       "      <td>0.858120</td>\n",
       "    </tr>\n",
       "    <tr>\n",
       "      <th>person</th>\n",
       "      <td>0.722503</td>\n",
       "      <td>0.902900</td>\n",
       "      <td>0.802691</td>\n",
       "      <td>793.0</td>\n",
       "      <td>0.902900</td>\n",
       "    </tr>\n",
       "    <tr>\n",
       "      <th>plant</th>\n",
       "      <td>0.836364</td>\n",
       "      <td>0.750000</td>\n",
       "      <td>0.790831</td>\n",
       "      <td>184.0</td>\n",
       "      <td>0.750000</td>\n",
       "    </tr>\n",
       "    <tr>\n",
       "      <th>structure</th>\n",
       "      <td>0.572581</td>\n",
       "      <td>0.518248</td>\n",
       "      <td>0.544061</td>\n",
       "      <td>137.0</td>\n",
       "      <td>0.518248</td>\n",
       "    </tr>\n",
       "    <tr>\n",
       "      <th>vertebrate</th>\n",
       "      <td>0.902439</td>\n",
       "      <td>0.752542</td>\n",
       "      <td>0.820702</td>\n",
       "      <td>295.0</td>\n",
       "      <td>0.752542</td>\n",
       "    </tr>\n",
       "    <tr>\n",
       "      <th>macro avg</th>\n",
       "      <td>0.747806</td>\n",
       "      <td>0.682419</td>\n",
       "      <td>0.694195</td>\n",
       "      <td>3000.0</td>\n",
       "      <td>0.682419</td>\n",
       "    </tr>\n",
       "    <tr>\n",
       "      <th>weighted avg</th>\n",
       "      <td>0.741258</td>\n",
       "      <td>0.727667</td>\n",
       "      <td>0.711274</td>\n",
       "      <td>3000.0</td>\n",
       "      <td>0.727667</td>\n",
       "    </tr>\n",
       "  </tbody>\n",
       "</table>\n",
       "</div>"
      ],
      "text/plain": [
       "                 precision    recall  f1-score  support  accuracy\n",
       "covering          0.651376  0.310044  0.420118    229.0  0.310044\n",
       "device            0.799228  0.405088  0.537662    511.0  0.405088\n",
       "domestic_animal   0.882759  0.962406  0.920863    266.0  0.962406\n",
       "mater             0.615196  0.858120  0.716631    585.0  0.858120\n",
       "person            0.722503  0.902900  0.802691    793.0  0.902900\n",
       "plant             0.836364  0.750000  0.790831    184.0  0.750000\n",
       "structure         0.572581  0.518248  0.544061    137.0  0.518248\n",
       "vertebrate        0.902439  0.752542  0.820702    295.0  0.752542\n",
       "macro avg         0.747806  0.682419  0.694195   3000.0  0.682419\n",
       "weighted avg      0.741258  0.727667  0.711274   3000.0  0.727667"
      ]
     },
     "execution_count": 29,
     "metadata": {},
     "output_type": "execute_result"
    }
   ],
   "source": [
    "df_report"
   ]
  },
  {
   "cell_type": "code",
   "execution_count": 30,
   "id": "123e15a8-a48f-4cf6-b1de-0bf1ab673962",
   "metadata": {
    "tags": []
   },
   "outputs": [],
   "source": [
    "df_report.to_csv(model_path + dataset_name + '-各类别准确率评估指标.csv', index_label='类别')"
   ]
  }
 ],
 "metadata": {
  "kernelspec": {
   "display_name": "Python [conda env:SemanticTest]",
   "language": "python",
   "name": "conda-env-SemanticTest-py"
  },
  "language_info": {
   "codemirror_mode": {
    "name": "ipython",
    "version": 3
   },
   "file_extension": ".py",
   "mimetype": "text/x-python",
   "name": "python",
   "nbconvert_exporter": "python",
   "pygments_lexer": "ipython3",
   "version": "3.8.16"
  }
 },
 "nbformat": 4,
 "nbformat_minor": 5
}
