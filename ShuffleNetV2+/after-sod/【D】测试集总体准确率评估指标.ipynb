{
 "cells": [
  {
   "cell_type": "markdown",
   "id": "2a22969d-14d8-430d-84af-2ce7c2e5cf29",
   "metadata": {},
   "source": [
    "# 测试集总体准确率评估指标\n",
    "\n",
    "分析测试集预测结果表格，计算总体准确率评估指标和各类别准确率评估指标。"
   ]
  },
  {
   "cell_type": "markdown",
   "id": "6126ed04-a127-4d55-8a4b-aeb5d440039c",
   "metadata": {},
   "source": [
    "## 导入工具包"
   ]
  },
  {
   "cell_type": "code",
   "execution_count": 1,
   "id": "4c48d4e8-5de7-4d6f-9e6d-c5f799f1223d",
   "metadata": {
    "tags": []
   },
   "outputs": [
    {
     "name": "stdout",
     "output_type": "stream",
     "text": [
      "/home/mark/Documents/PythonProject/ShuffleNet-Retrain/ShuffleNetV2+\n"
     ]
    }
   ],
   "source": [
    "import pandas as pd\n",
    "import numpy as np\n",
    "from tqdm import tqdm\n",
    "import os\n",
    "fater_path = os.path.abspath('..')\n",
    "print(fater_path)\n",
    "os.chdir(fater_path)"
   ]
  },
  {
   "cell_type": "markdown",
   "id": "f1d831d0-8192-4db6-b913-ef7327463f35",
   "metadata": {},
   "source": [
    "## 载入类别名称和ID"
   ]
  },
  {
   "cell_type": "code",
   "execution_count": 2,
   "id": "00c507c4-c990-4326-b479-4b18e8aa50da",
   "metadata": {
    "tags": []
   },
   "outputs": [
    {
     "name": "stdout",
     "output_type": "stream",
     "text": [
      "['covering', 'device', 'domestic_animal', 'mater', 'person', 'plant', 'structure', 'vertebrate']\n"
     ]
    }
   ],
   "source": [
    "dataset_name = 'test_easy_classes'\n",
    "model_path = './models/2023-12-14-17:59_max_epoch_100-afterSOD/'\n",
    "model_name = 'retrain_COME15K_checkpoint-best-avg-0.544-Medium.pth.tar'\n",
    "\n",
    "# 类别名称 和 ID索引号 的映射字典\n",
    "class_names_dic = {0: 'covering', 1: 'device', 2: 'domestic_animal', 3: 'mater', 4: 'person', 5: 'plant',\n",
    "                       6: 'structure', 7: 'vertebrate'}\n",
    "# 获得类别名称\n",
    "classes = list(class_names_dic.values())\n",
    "print(classes)"
   ]
  },
  {
   "cell_type": "markdown",
   "id": "6068dc94-5b85-44ae-a373-7d531a57f5a4",
   "metadata": {},
   "source": [
    "## 载入类别名称和ID"
   ]
  },
  {
   "cell_type": "code",
   "execution_count": 15,
   "id": "d83ae0d4-f9f5-4040-8235-09c39aec76de",
   "metadata": {
    "tags": []
   },
   "outputs": [
    {
     "name": "stdout",
     "output_type": "stream",
     "text": [
      "['covering', 'device', 'domestic_animal', 'mater', 'person', 'plant', 'structure', 'vertebrate']\n"
     ]
    }
   ],
   "source": [
    "dataset_name = 'test_hard_classes'\n",
    "model_path = './models/2023-12-14-17:59_max_epoch_100-afterSOD/'\n",
    "model_name = 'retrain_COME15K_checkpoint-best-avg-0.544-Medium.pth.tar'\n",
    "\n",
    "# 类别名称 和 ID索引号 的映射字典\n",
    "class_names_dic = {0: 'covering', 1: 'device', 2: 'domestic_animal', 3: 'mater', 4: 'person', 5: 'plant',\n",
    "                       6: 'structure', 7: 'vertebrate'}\n",
    "# 获得类别名称\n",
    "classes = list(class_names_dic.values())\n",
    "print(classes)"
   ]
  },
  {
   "cell_type": "markdown",
   "id": "a25de944-2532-472c-af77-6b8eaacfa916",
   "metadata": {},
   "source": [
    "## 载入测试集预测结果表格"
   ]
  },
  {
   "cell_type": "code",
   "execution_count": 16,
   "id": "42c95441-d023-4fc2-897b-3f6a7f86e017",
   "metadata": {
    "tags": []
   },
   "outputs": [],
   "source": [
    "df = pd.read_csv(model_path + dataset_name +'-测试集预测结果.csv')"
   ]
  },
  {
   "cell_type": "code",
   "execution_count": 17,
   "id": "917a75bd-bd3f-4105-aa3c-0fce5e4d1fda",
   "metadata": {
    "tags": []
   },
   "outputs": [
    {
     "data": {
      "text/html": [
       "<div>\n",
       "<style scoped>\n",
       "    .dataframe tbody tr th:only-of-type {\n",
       "        vertical-align: middle;\n",
       "    }\n",
       "\n",
       "    .dataframe tbody tr th {\n",
       "        vertical-align: top;\n",
       "    }\n",
       "\n",
       "    .dataframe thead th {\n",
       "        text-align: right;\n",
       "    }\n",
       "</style>\n",
       "<table border=\"1\" class=\"dataframe\">\n",
       "  <thead>\n",
       "    <tr style=\"text-align: right;\">\n",
       "      <th></th>\n",
       "      <th>图像路径</th>\n",
       "      <th>标注类别ID</th>\n",
       "      <th>标注类别名称</th>\n",
       "      <th>top-1-预测ID</th>\n",
       "      <th>top-1-预测名称</th>\n",
       "      <th>top-2-预测ID</th>\n",
       "      <th>top-2-预测名称</th>\n",
       "      <th>top-3-预测ID</th>\n",
       "      <th>top-3-预测名称</th>\n",
       "      <th>top-n预测正确</th>\n",
       "      <th>covering-预测置信度</th>\n",
       "      <th>device-预测置信度</th>\n",
       "      <th>domestic_animal-预测置信度</th>\n",
       "      <th>mater-预测置信度</th>\n",
       "      <th>person-预测置信度</th>\n",
       "      <th>plant-预测置信度</th>\n",
       "      <th>structure-预测置信度</th>\n",
       "      <th>vertebrate-预测置信度</th>\n",
       "    </tr>\n",
       "  </thead>\n",
       "  <tbody>\n",
       "    <tr>\n",
       "      <th>0</th>\n",
       "      <td>data/SOD-SemanticDataset/test/COME15K-Hard/COM...</td>\n",
       "      <td>0</td>\n",
       "      <td>covering</td>\n",
       "      <td>4</td>\n",
       "      <td>person</td>\n",
       "      <td>0</td>\n",
       "      <td>covering</td>\n",
       "      <td>3</td>\n",
       "      <td>mater</td>\n",
       "      <td>True</td>\n",
       "      <td>0.150702</td>\n",
       "      <td>0.021558</td>\n",
       "      <td>0.007851</td>\n",
       "      <td>0.031100</td>\n",
       "      <td>0.740860</td>\n",
       "      <td>0.024640</td>\n",
       "      <td>0.017243</td>\n",
       "      <td>0.006046</td>\n",
       "    </tr>\n",
       "    <tr>\n",
       "      <th>1</th>\n",
       "      <td>data/SOD-SemanticDataset/test/COME15K-Hard/COM...</td>\n",
       "      <td>0</td>\n",
       "      <td>covering</td>\n",
       "      <td>3</td>\n",
       "      <td>mater</td>\n",
       "      <td>1</td>\n",
       "      <td>device</td>\n",
       "      <td>2</td>\n",
       "      <td>domestic_animal</td>\n",
       "      <td>False</td>\n",
       "      <td>0.051497</td>\n",
       "      <td>0.143278</td>\n",
       "      <td>0.090627</td>\n",
       "      <td>0.484257</td>\n",
       "      <td>0.086004</td>\n",
       "      <td>0.015017</td>\n",
       "      <td>0.069500</td>\n",
       "      <td>0.059820</td>\n",
       "    </tr>\n",
       "    <tr>\n",
       "      <th>2</th>\n",
       "      <td>data/SOD-SemanticDataset/test/COME15K-Hard/COM...</td>\n",
       "      <td>0</td>\n",
       "      <td>covering</td>\n",
       "      <td>4</td>\n",
       "      <td>person</td>\n",
       "      <td>0</td>\n",
       "      <td>covering</td>\n",
       "      <td>3</td>\n",
       "      <td>mater</td>\n",
       "      <td>True</td>\n",
       "      <td>0.285533</td>\n",
       "      <td>0.023308</td>\n",
       "      <td>0.034161</td>\n",
       "      <td>0.054380</td>\n",
       "      <td>0.533188</td>\n",
       "      <td>0.029523</td>\n",
       "      <td>0.017891</td>\n",
       "      <td>0.022016</td>\n",
       "    </tr>\n",
       "    <tr>\n",
       "      <th>3</th>\n",
       "      <td>data/SOD-SemanticDataset/test/COME15K-Hard/COM...</td>\n",
       "      <td>0</td>\n",
       "      <td>covering</td>\n",
       "      <td>4</td>\n",
       "      <td>person</td>\n",
       "      <td>5</td>\n",
       "      <td>plant</td>\n",
       "      <td>0</td>\n",
       "      <td>covering</td>\n",
       "      <td>True</td>\n",
       "      <td>0.111442</td>\n",
       "      <td>0.078068</td>\n",
       "      <td>0.008580</td>\n",
       "      <td>0.065755</td>\n",
       "      <td>0.497820</td>\n",
       "      <td>0.178757</td>\n",
       "      <td>0.039475</td>\n",
       "      <td>0.020102</td>\n",
       "    </tr>\n",
       "    <tr>\n",
       "      <th>4</th>\n",
       "      <td>data/SOD-SemanticDataset/test/COME15K-Hard/COM...</td>\n",
       "      <td>0</td>\n",
       "      <td>covering</td>\n",
       "      <td>3</td>\n",
       "      <td>mater</td>\n",
       "      <td>5</td>\n",
       "      <td>plant</td>\n",
       "      <td>1</td>\n",
       "      <td>device</td>\n",
       "      <td>False</td>\n",
       "      <td>0.061014</td>\n",
       "      <td>0.151636</td>\n",
       "      <td>0.040157</td>\n",
       "      <td>0.296459</td>\n",
       "      <td>0.080052</td>\n",
       "      <td>0.205801</td>\n",
       "      <td>0.085705</td>\n",
       "      <td>0.079177</td>\n",
       "    </tr>\n",
       "    <tr>\n",
       "      <th>...</th>\n",
       "      <td>...</td>\n",
       "      <td>...</td>\n",
       "      <td>...</td>\n",
       "      <td>...</td>\n",
       "      <td>...</td>\n",
       "      <td>...</td>\n",
       "      <td>...</td>\n",
       "      <td>...</td>\n",
       "      <td>...</td>\n",
       "      <td>...</td>\n",
       "      <td>...</td>\n",
       "      <td>...</td>\n",
       "      <td>...</td>\n",
       "      <td>...</td>\n",
       "      <td>...</td>\n",
       "      <td>...</td>\n",
       "      <td>...</td>\n",
       "      <td>...</td>\n",
       "    </tr>\n",
       "    <tr>\n",
       "      <th>2995</th>\n",
       "      <td>data/SOD-SemanticDataset/test/COME15K-Hard/COM...</td>\n",
       "      <td>7</td>\n",
       "      <td>vertebrate</td>\n",
       "      <td>4</td>\n",
       "      <td>person</td>\n",
       "      <td>2</td>\n",
       "      <td>domestic_animal</td>\n",
       "      <td>7</td>\n",
       "      <td>vertebrate</td>\n",
       "      <td>True</td>\n",
       "      <td>0.125837</td>\n",
       "      <td>0.038539</td>\n",
       "      <td>0.186815</td>\n",
       "      <td>0.056154</td>\n",
       "      <td>0.384143</td>\n",
       "      <td>0.032021</td>\n",
       "      <td>0.047229</td>\n",
       "      <td>0.129261</td>\n",
       "    </tr>\n",
       "    <tr>\n",
       "      <th>2996</th>\n",
       "      <td>data/SOD-SemanticDataset/test/COME15K-Hard/COM...</td>\n",
       "      <td>7</td>\n",
       "      <td>vertebrate</td>\n",
       "      <td>7</td>\n",
       "      <td>vertebrate</td>\n",
       "      <td>2</td>\n",
       "      <td>domestic_animal</td>\n",
       "      <td>4</td>\n",
       "      <td>person</td>\n",
       "      <td>True</td>\n",
       "      <td>0.075381</td>\n",
       "      <td>0.022478</td>\n",
       "      <td>0.216074</td>\n",
       "      <td>0.102508</td>\n",
       "      <td>0.183349</td>\n",
       "      <td>0.037899</td>\n",
       "      <td>0.042220</td>\n",
       "      <td>0.320091</td>\n",
       "    </tr>\n",
       "    <tr>\n",
       "      <th>2997</th>\n",
       "      <td>data/SOD-SemanticDataset/test/COME15K-Hard/COM...</td>\n",
       "      <td>7</td>\n",
       "      <td>vertebrate</td>\n",
       "      <td>7</td>\n",
       "      <td>vertebrate</td>\n",
       "      <td>2</td>\n",
       "      <td>domestic_animal</td>\n",
       "      <td>3</td>\n",
       "      <td>mater</td>\n",
       "      <td>True</td>\n",
       "      <td>0.082533</td>\n",
       "      <td>0.029319</td>\n",
       "      <td>0.207420</td>\n",
       "      <td>0.176017</td>\n",
       "      <td>0.110708</td>\n",
       "      <td>0.042762</td>\n",
       "      <td>0.052742</td>\n",
       "      <td>0.298499</td>\n",
       "    </tr>\n",
       "    <tr>\n",
       "      <th>2998</th>\n",
       "      <td>data/SOD-SemanticDataset/test/COME15K-Hard/COM...</td>\n",
       "      <td>7</td>\n",
       "      <td>vertebrate</td>\n",
       "      <td>3</td>\n",
       "      <td>mater</td>\n",
       "      <td>5</td>\n",
       "      <td>plant</td>\n",
       "      <td>7</td>\n",
       "      <td>vertebrate</td>\n",
       "      <td>True</td>\n",
       "      <td>0.028809</td>\n",
       "      <td>0.075145</td>\n",
       "      <td>0.087061</td>\n",
       "      <td>0.278031</td>\n",
       "      <td>0.039806</td>\n",
       "      <td>0.263916</td>\n",
       "      <td>0.043166</td>\n",
       "      <td>0.184066</td>\n",
       "    </tr>\n",
       "    <tr>\n",
       "      <th>2999</th>\n",
       "      <td>data/SOD-SemanticDataset/test/COME15K-Hard/COM...</td>\n",
       "      <td>7</td>\n",
       "      <td>vertebrate</td>\n",
       "      <td>3</td>\n",
       "      <td>mater</td>\n",
       "      <td>7</td>\n",
       "      <td>vertebrate</td>\n",
       "      <td>5</td>\n",
       "      <td>plant</td>\n",
       "      <td>True</td>\n",
       "      <td>0.039720</td>\n",
       "      <td>0.063823</td>\n",
       "      <td>0.134016</td>\n",
       "      <td>0.256773</td>\n",
       "      <td>0.077178</td>\n",
       "      <td>0.166513</td>\n",
       "      <td>0.022211</td>\n",
       "      <td>0.239764</td>\n",
       "    </tr>\n",
       "  </tbody>\n",
       "</table>\n",
       "<p>3000 rows × 18 columns</p>\n",
       "</div>"
      ],
      "text/plain": [
       "                                                   图像路径  标注类别ID      标注类别名称   \n",
       "0     data/SOD-SemanticDataset/test/COME15K-Hard/COM...       0    covering  \\\n",
       "1     data/SOD-SemanticDataset/test/COME15K-Hard/COM...       0    covering   \n",
       "2     data/SOD-SemanticDataset/test/COME15K-Hard/COM...       0    covering   \n",
       "3     data/SOD-SemanticDataset/test/COME15K-Hard/COM...       0    covering   \n",
       "4     data/SOD-SemanticDataset/test/COME15K-Hard/COM...       0    covering   \n",
       "...                                                 ...     ...         ...   \n",
       "2995  data/SOD-SemanticDataset/test/COME15K-Hard/COM...       7  vertebrate   \n",
       "2996  data/SOD-SemanticDataset/test/COME15K-Hard/COM...       7  vertebrate   \n",
       "2997  data/SOD-SemanticDataset/test/COME15K-Hard/COM...       7  vertebrate   \n",
       "2998  data/SOD-SemanticDataset/test/COME15K-Hard/COM...       7  vertebrate   \n",
       "2999  data/SOD-SemanticDataset/test/COME15K-Hard/COM...       7  vertebrate   \n",
       "\n",
       "      top-1-预测ID  top-1-预测名称  top-2-预测ID       top-2-预测名称  top-3-预测ID   \n",
       "0              4      person           0         covering           3  \\\n",
       "1              3       mater           1           device           2   \n",
       "2              4      person           0         covering           3   \n",
       "3              4      person           5            plant           0   \n",
       "4              3       mater           5            plant           1   \n",
       "...          ...         ...         ...              ...         ...   \n",
       "2995           4      person           2  domestic_animal           7   \n",
       "2996           7  vertebrate           2  domestic_animal           4   \n",
       "2997           7  vertebrate           2  domestic_animal           3   \n",
       "2998           3       mater           5            plant           7   \n",
       "2999           3       mater           7       vertebrate           5   \n",
       "\n",
       "           top-3-预测名称  top-n预测正确  covering-预测置信度  device-预测置信度   \n",
       "0               mater       True        0.150702      0.021558  \\\n",
       "1     domestic_animal      False        0.051497      0.143278   \n",
       "2               mater       True        0.285533      0.023308   \n",
       "3            covering       True        0.111442      0.078068   \n",
       "4              device      False        0.061014      0.151636   \n",
       "...               ...        ...             ...           ...   \n",
       "2995       vertebrate       True        0.125837      0.038539   \n",
       "2996           person       True        0.075381      0.022478   \n",
       "2997            mater       True        0.082533      0.029319   \n",
       "2998       vertebrate       True        0.028809      0.075145   \n",
       "2999            plant       True        0.039720      0.063823   \n",
       "\n",
       "      domestic_animal-预测置信度  mater-预测置信度  person-预测置信度  plant-预测置信度   \n",
       "0                  0.007851     0.031100      0.740860     0.024640  \\\n",
       "1                  0.090627     0.484257      0.086004     0.015017   \n",
       "2                  0.034161     0.054380      0.533188     0.029523   \n",
       "3                  0.008580     0.065755      0.497820     0.178757   \n",
       "4                  0.040157     0.296459      0.080052     0.205801   \n",
       "...                     ...          ...           ...          ...   \n",
       "2995               0.186815     0.056154      0.384143     0.032021   \n",
       "2996               0.216074     0.102508      0.183349     0.037899   \n",
       "2997               0.207420     0.176017      0.110708     0.042762   \n",
       "2998               0.087061     0.278031      0.039806     0.263916   \n",
       "2999               0.134016     0.256773      0.077178     0.166513   \n",
       "\n",
       "      structure-预测置信度  vertebrate-预测置信度  \n",
       "0            0.017243          0.006046  \n",
       "1            0.069500          0.059820  \n",
       "2            0.017891          0.022016  \n",
       "3            0.039475          0.020102  \n",
       "4            0.085705          0.079177  \n",
       "...               ...               ...  \n",
       "2995         0.047229          0.129261  \n",
       "2996         0.042220          0.320091  \n",
       "2997         0.052742          0.298499  \n",
       "2998         0.043166          0.184066  \n",
       "2999         0.022211          0.239764  \n",
       "\n",
       "[3000 rows x 18 columns]"
      ]
     },
     "execution_count": 17,
     "metadata": {},
     "output_type": "execute_result"
    }
   ],
   "source": [
    "df"
   ]
  },
  {
   "cell_type": "markdown",
   "id": "9a8b96c3-1d5c-41af-9592-44b839b3f4e4",
   "metadata": {},
   "source": [
    "## 准确率"
   ]
  },
  {
   "cell_type": "code",
   "execution_count": 18,
   "id": "c9886ac3-4640-4ff3-8884-2206af037fac",
   "metadata": {
    "tags": []
   },
   "outputs": [
    {
     "data": {
      "text/plain": [
       "0.5306666666666666"
      ]
     },
     "execution_count": 18,
     "metadata": {},
     "output_type": "execute_result"
    }
   ],
   "source": [
    "sum(df['标注类别名称'] == df['top-1-预测名称']) / len(df)"
   ]
  },
  {
   "cell_type": "markdown",
   "id": "bf691ba6-ce59-4dcc-9305-109fe5dcb499",
   "metadata": {},
   "source": [
    "## top-n准确率"
   ]
  },
  {
   "cell_type": "code",
   "execution_count": 19,
   "id": "fedf6c0d-c06b-4a04-8a07-9d4c6f937338",
   "metadata": {
    "tags": []
   },
   "outputs": [
    {
     "data": {
      "text/plain": [
       "0.8146666666666667"
      ]
     },
     "execution_count": 19,
     "metadata": {},
     "output_type": "execute_result"
    }
   ],
   "source": [
    "sum(df['top-n预测正确']) / len(df)"
   ]
  },
  {
   "cell_type": "markdown",
   "id": "8a3de26a-3e66-404b-b64d-111835a7c0de",
   "metadata": {},
   "source": [
    "## 各类别其它评估指标\n",
    "\n",
    "公众号 人工智能小技巧 回复 混淆矩阵\n",
    "\n",
    "看子豪兄视频和笔记讲解"
   ]
  },
  {
   "cell_type": "code",
   "execution_count": 20,
   "id": "d1e22035-9163-427f-b620-d3bc079f8959",
   "metadata": {
    "tags": []
   },
   "outputs": [],
   "source": [
    "from sklearn.metrics import classification_report"
   ]
  },
  {
   "cell_type": "code",
   "execution_count": 21,
   "id": "18d3f8e3-8e57-42c0-97d2-62f1e33b5739",
   "metadata": {
    "tags": []
   },
   "outputs": [
    {
     "name": "stdout",
     "output_type": "stream",
     "text": [
      "                 precision    recall  f1-score   support\n",
      "\n",
      "       covering       0.00      0.00      0.00       229\n",
      "         device       0.59      0.23      0.33       511\n",
      "domestic_animal       0.58      0.70      0.63       266\n",
      "          mater       0.45      0.77      0.57       585\n",
      "         person       0.58      0.85      0.69       793\n",
      "          plant       0.55      0.37      0.44       184\n",
      "      structure       0.44      0.06      0.10       137\n",
      "     vertebrate       0.53      0.29      0.38       295\n",
      "\n",
      "       accuracy                           0.53      3000\n",
      "      macro avg       0.47      0.41      0.39      3000\n",
      "   weighted avg       0.50      0.53      0.47      3000\n",
      "\n"
     ]
    },
    {
     "name": "stderr",
     "output_type": "stream",
     "text": [
      "/home/mark/anaconda3/envs/SemanticTest/lib/python3.8/site-packages/sklearn/metrics/_classification.py:1344: UndefinedMetricWarning: Precision and F-score are ill-defined and being set to 0.0 in labels with no predicted samples. Use `zero_division` parameter to control this behavior.\n",
      "  _warn_prf(average, modifier, msg_start, len(result))\n",
      "/home/mark/anaconda3/envs/SemanticTest/lib/python3.8/site-packages/sklearn/metrics/_classification.py:1344: UndefinedMetricWarning: Precision and F-score are ill-defined and being set to 0.0 in labels with no predicted samples. Use `zero_division` parameter to control this behavior.\n",
      "  _warn_prf(average, modifier, msg_start, len(result))\n",
      "/home/mark/anaconda3/envs/SemanticTest/lib/python3.8/site-packages/sklearn/metrics/_classification.py:1344: UndefinedMetricWarning: Precision and F-score are ill-defined and being set to 0.0 in labels with no predicted samples. Use `zero_division` parameter to control this behavior.\n",
      "  _warn_prf(average, modifier, msg_start, len(result))\n"
     ]
    }
   ],
   "source": [
    "print(classification_report(df['标注类别名称'], df['top-1-预测名称'], target_names=classes))"
   ]
  },
  {
   "cell_type": "markdown",
   "id": "df4db2a0-b1b2-4cff-92e5-fc097336b2ae",
   "metadata": {},
   "source": [
    "macro avg 宏平均：直接将每一类的评估指标求和取平均（算数平均值）\n",
    "\n",
    "weighted avg 加权平均：按样本数量（support）加权计算评估指标的平均值"
   ]
  },
  {
   "cell_type": "code",
   "execution_count": 22,
   "id": "64e2187b-a236-4518-a439-562e565739c5",
   "metadata": {
    "tags": []
   },
   "outputs": [
    {
     "name": "stderr",
     "output_type": "stream",
     "text": [
      "/home/mark/anaconda3/envs/SemanticTest/lib/python3.8/site-packages/sklearn/metrics/_classification.py:1344: UndefinedMetricWarning: Precision and F-score are ill-defined and being set to 0.0 in labels with no predicted samples. Use `zero_division` parameter to control this behavior.\n",
      "  _warn_prf(average, modifier, msg_start, len(result))\n",
      "/home/mark/anaconda3/envs/SemanticTest/lib/python3.8/site-packages/sklearn/metrics/_classification.py:1344: UndefinedMetricWarning: Precision and F-score are ill-defined and being set to 0.0 in labels with no predicted samples. Use `zero_division` parameter to control this behavior.\n",
      "  _warn_prf(average, modifier, msg_start, len(result))\n",
      "/home/mark/anaconda3/envs/SemanticTest/lib/python3.8/site-packages/sklearn/metrics/_classification.py:1344: UndefinedMetricWarning: Precision and F-score are ill-defined and being set to 0.0 in labels with no predicted samples. Use `zero_division` parameter to control this behavior.\n",
      "  _warn_prf(average, modifier, msg_start, len(result))\n"
     ]
    }
   ],
   "source": [
    "report = classification_report(df['标注类别名称'], df['top-1-预测名称'], target_names=classes, output_dict=True)\n",
    "del report['accuracy']\n",
    "df_report = pd.DataFrame(report).transpose()"
   ]
  },
  {
   "cell_type": "code",
   "execution_count": 23,
   "id": "14266155-da0f-4c5d-9366-4273222fe600",
   "metadata": {
    "tags": []
   },
   "outputs": [
    {
     "data": {
      "text/html": [
       "<div>\n",
       "<style scoped>\n",
       "    .dataframe tbody tr th:only-of-type {\n",
       "        vertical-align: middle;\n",
       "    }\n",
       "\n",
       "    .dataframe tbody tr th {\n",
       "        vertical-align: top;\n",
       "    }\n",
       "\n",
       "    .dataframe thead th {\n",
       "        text-align: right;\n",
       "    }\n",
       "</style>\n",
       "<table border=\"1\" class=\"dataframe\">\n",
       "  <thead>\n",
       "    <tr style=\"text-align: right;\">\n",
       "      <th></th>\n",
       "      <th>precision</th>\n",
       "      <th>recall</th>\n",
       "      <th>f1-score</th>\n",
       "      <th>support</th>\n",
       "    </tr>\n",
       "  </thead>\n",
       "  <tbody>\n",
       "    <tr>\n",
       "      <th>covering</th>\n",
       "      <td>0.000000</td>\n",
       "      <td>0.000000</td>\n",
       "      <td>0.000000</td>\n",
       "      <td>229.0</td>\n",
       "    </tr>\n",
       "    <tr>\n",
       "      <th>device</th>\n",
       "      <td>0.591837</td>\n",
       "      <td>0.227006</td>\n",
       "      <td>0.328147</td>\n",
       "      <td>511.0</td>\n",
       "    </tr>\n",
       "    <tr>\n",
       "      <th>domestic_animal</th>\n",
       "      <td>0.575851</td>\n",
       "      <td>0.699248</td>\n",
       "      <td>0.631579</td>\n",
       "      <td>266.0</td>\n",
       "    </tr>\n",
       "    <tr>\n",
       "      <th>mater</th>\n",
       "      <td>0.449203</td>\n",
       "      <td>0.770940</td>\n",
       "      <td>0.567653</td>\n",
       "      <td>585.0</td>\n",
       "    </tr>\n",
       "    <tr>\n",
       "      <th>person</th>\n",
       "      <td>0.576792</td>\n",
       "      <td>0.852459</td>\n",
       "      <td>0.688041</td>\n",
       "      <td>793.0</td>\n",
       "    </tr>\n",
       "    <tr>\n",
       "      <th>plant</th>\n",
       "      <td>0.548387</td>\n",
       "      <td>0.369565</td>\n",
       "      <td>0.441558</td>\n",
       "      <td>184.0</td>\n",
       "    </tr>\n",
       "    <tr>\n",
       "      <th>structure</th>\n",
       "      <td>0.444444</td>\n",
       "      <td>0.058394</td>\n",
       "      <td>0.103226</td>\n",
       "      <td>137.0</td>\n",
       "    </tr>\n",
       "    <tr>\n",
       "      <th>vertebrate</th>\n",
       "      <td>0.533742</td>\n",
       "      <td>0.294915</td>\n",
       "      <td>0.379913</td>\n",
       "      <td>295.0</td>\n",
       "    </tr>\n",
       "    <tr>\n",
       "      <th>macro avg</th>\n",
       "      <td>0.465032</td>\n",
       "      <td>0.409066</td>\n",
       "      <td>0.392515</td>\n",
       "      <td>3000.0</td>\n",
       "    </tr>\n",
       "    <tr>\n",
       "      <th>weighted avg</th>\n",
       "      <td>0.498344</td>\n",
       "      <td>0.530667</td>\n",
       "      <td>0.473613</td>\n",
       "      <td>3000.0</td>\n",
       "    </tr>\n",
       "  </tbody>\n",
       "</table>\n",
       "</div>"
      ],
      "text/plain": [
       "                 precision    recall  f1-score  support\n",
       "covering          0.000000  0.000000  0.000000    229.0\n",
       "device            0.591837  0.227006  0.328147    511.0\n",
       "domestic_animal   0.575851  0.699248  0.631579    266.0\n",
       "mater             0.449203  0.770940  0.567653    585.0\n",
       "person            0.576792  0.852459  0.688041    793.0\n",
       "plant             0.548387  0.369565  0.441558    184.0\n",
       "structure         0.444444  0.058394  0.103226    137.0\n",
       "vertebrate        0.533742  0.294915  0.379913    295.0\n",
       "macro avg         0.465032  0.409066  0.392515   3000.0\n",
       "weighted avg      0.498344  0.530667  0.473613   3000.0"
      ]
     },
     "execution_count": 23,
     "metadata": {},
     "output_type": "execute_result"
    }
   ],
   "source": [
    "df_report"
   ]
  },
  {
   "cell_type": "markdown",
   "id": "a65da7a6-f1ba-4f86-8a89-11d87529f6c7",
   "metadata": {},
   "source": [
    "## 补充：各类别准确率（其实就是recall）"
   ]
  },
  {
   "cell_type": "code",
   "execution_count": 24,
   "id": "02d63458-49eb-4d8a-a264-2e09bb61bc6b",
   "metadata": {
    "tags": []
   },
   "outputs": [
    {
     "name": "stderr",
     "output_type": "stream",
     "text": [
      "100%|███████████████████████████████████████████| 8/8 [00:00<00:00, 1512.62it/s]\n"
     ]
    }
   ],
   "source": [
    "accuracy_list = []\n",
    "for element in tqdm(classes):\n",
    "    df_temp = df[df['标注类别名称']==element]\n",
    "    accuracy = sum(df_temp['标注类别名称'] == df_temp['top-1-预测名称']) / len(df_temp)\n",
    "    accuracy_list.append(accuracy)"
   ]
  },
  {
   "cell_type": "code",
   "execution_count": 25,
   "id": "24ca5a23-b6f3-4ce3-84af-262fa5d10edb",
   "metadata": {
    "tags": []
   },
   "outputs": [],
   "source": [
    "# 计算 宏平均准确率 和 加权平均准确率\n",
    "acc_macro = np.mean(accuracy_list)\n",
    "acc_weighted = sum(accuracy_list * df_report.iloc[:-2]['support'] / len(df))\n",
    "\n",
    "accuracy_list.append(acc_macro)\n",
    "accuracy_list.append(acc_weighted)\n",
    "\n",
    "df_report['accuracy'] = accuracy_list"
   ]
  },
  {
   "cell_type": "code",
   "execution_count": 26,
   "id": "6f4b0b49-a8f2-4647-bc68-22f83ce29cc2",
   "metadata": {
    "tags": []
   },
   "outputs": [
    {
     "data": {
      "text/html": [
       "<div>\n",
       "<style scoped>\n",
       "    .dataframe tbody tr th:only-of-type {\n",
       "        vertical-align: middle;\n",
       "    }\n",
       "\n",
       "    .dataframe tbody tr th {\n",
       "        vertical-align: top;\n",
       "    }\n",
       "\n",
       "    .dataframe thead th {\n",
       "        text-align: right;\n",
       "    }\n",
       "</style>\n",
       "<table border=\"1\" class=\"dataframe\">\n",
       "  <thead>\n",
       "    <tr style=\"text-align: right;\">\n",
       "      <th></th>\n",
       "      <th>precision</th>\n",
       "      <th>recall</th>\n",
       "      <th>f1-score</th>\n",
       "      <th>support</th>\n",
       "      <th>accuracy</th>\n",
       "    </tr>\n",
       "  </thead>\n",
       "  <tbody>\n",
       "    <tr>\n",
       "      <th>covering</th>\n",
       "      <td>0.000000</td>\n",
       "      <td>0.000000</td>\n",
       "      <td>0.000000</td>\n",
       "      <td>229.0</td>\n",
       "      <td>0.000000</td>\n",
       "    </tr>\n",
       "    <tr>\n",
       "      <th>device</th>\n",
       "      <td>0.591837</td>\n",
       "      <td>0.227006</td>\n",
       "      <td>0.328147</td>\n",
       "      <td>511.0</td>\n",
       "      <td>0.227006</td>\n",
       "    </tr>\n",
       "    <tr>\n",
       "      <th>domestic_animal</th>\n",
       "      <td>0.575851</td>\n",
       "      <td>0.699248</td>\n",
       "      <td>0.631579</td>\n",
       "      <td>266.0</td>\n",
       "      <td>0.699248</td>\n",
       "    </tr>\n",
       "    <tr>\n",
       "      <th>mater</th>\n",
       "      <td>0.449203</td>\n",
       "      <td>0.770940</td>\n",
       "      <td>0.567653</td>\n",
       "      <td>585.0</td>\n",
       "      <td>0.770940</td>\n",
       "    </tr>\n",
       "    <tr>\n",
       "      <th>person</th>\n",
       "      <td>0.576792</td>\n",
       "      <td>0.852459</td>\n",
       "      <td>0.688041</td>\n",
       "      <td>793.0</td>\n",
       "      <td>0.852459</td>\n",
       "    </tr>\n",
       "    <tr>\n",
       "      <th>plant</th>\n",
       "      <td>0.548387</td>\n",
       "      <td>0.369565</td>\n",
       "      <td>0.441558</td>\n",
       "      <td>184.0</td>\n",
       "      <td>0.369565</td>\n",
       "    </tr>\n",
       "    <tr>\n",
       "      <th>structure</th>\n",
       "      <td>0.444444</td>\n",
       "      <td>0.058394</td>\n",
       "      <td>0.103226</td>\n",
       "      <td>137.0</td>\n",
       "      <td>0.058394</td>\n",
       "    </tr>\n",
       "    <tr>\n",
       "      <th>vertebrate</th>\n",
       "      <td>0.533742</td>\n",
       "      <td>0.294915</td>\n",
       "      <td>0.379913</td>\n",
       "      <td>295.0</td>\n",
       "      <td>0.294915</td>\n",
       "    </tr>\n",
       "    <tr>\n",
       "      <th>macro avg</th>\n",
       "      <td>0.465032</td>\n",
       "      <td>0.409066</td>\n",
       "      <td>0.392515</td>\n",
       "      <td>3000.0</td>\n",
       "      <td>0.409066</td>\n",
       "    </tr>\n",
       "    <tr>\n",
       "      <th>weighted avg</th>\n",
       "      <td>0.498344</td>\n",
       "      <td>0.530667</td>\n",
       "      <td>0.473613</td>\n",
       "      <td>3000.0</td>\n",
       "      <td>0.530667</td>\n",
       "    </tr>\n",
       "  </tbody>\n",
       "</table>\n",
       "</div>"
      ],
      "text/plain": [
       "                 precision    recall  f1-score  support  accuracy\n",
       "covering          0.000000  0.000000  0.000000    229.0  0.000000\n",
       "device            0.591837  0.227006  0.328147    511.0  0.227006\n",
       "domestic_animal   0.575851  0.699248  0.631579    266.0  0.699248\n",
       "mater             0.449203  0.770940  0.567653    585.0  0.770940\n",
       "person            0.576792  0.852459  0.688041    793.0  0.852459\n",
       "plant             0.548387  0.369565  0.441558    184.0  0.369565\n",
       "structure         0.444444  0.058394  0.103226    137.0  0.058394\n",
       "vertebrate        0.533742  0.294915  0.379913    295.0  0.294915\n",
       "macro avg         0.465032  0.409066  0.392515   3000.0  0.409066\n",
       "weighted avg      0.498344  0.530667  0.473613   3000.0  0.530667"
      ]
     },
     "execution_count": 26,
     "metadata": {},
     "output_type": "execute_result"
    }
   ],
   "source": [
    "df_report"
   ]
  },
  {
   "cell_type": "code",
   "execution_count": 27,
   "id": "123e15a8-a48f-4cf6-b1de-0bf1ab673962",
   "metadata": {
    "tags": []
   },
   "outputs": [],
   "source": [
    "df_report.to_csv(model_path + dataset_name + '-各类别准确率评估指标.csv', index_label='类别')"
   ]
  }
 ],
 "metadata": {
  "kernelspec": {
   "display_name": "Python [conda env:SemanticTest]",
   "language": "python",
   "name": "conda-env-SemanticTest-py"
  },
  "language_info": {
   "codemirror_mode": {
    "name": "ipython",
    "version": 3
   },
   "file_extension": ".py",
   "mimetype": "text/x-python",
   "name": "python",
   "nbconvert_exporter": "python",
   "pygments_lexer": "ipython3",
   "version": "3.8.16"
  }
 },
 "nbformat": 4,
 "nbformat_minor": 5
}
