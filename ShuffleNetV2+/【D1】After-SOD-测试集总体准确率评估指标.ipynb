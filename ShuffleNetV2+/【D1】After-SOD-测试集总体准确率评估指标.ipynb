{
 "cells": [
  {
   "cell_type": "markdown",
   "id": "2a22969d-14d8-430d-84af-2ce7c2e5cf29",
   "metadata": {},
   "source": [
    "# 测试集总体准确率评估指标\n",
    "\n",
    "分析测试集预测结果表格，计算总体准确率评估指标和各类别准确率评估指标。"
   ]
  },
  {
   "cell_type": "markdown",
   "id": "6126ed04-a127-4d55-8a4b-aeb5d440039c",
   "metadata": {},
   "source": [
    "## 导入工具包"
   ]
  },
  {
   "cell_type": "code",
   "execution_count": 3,
   "id": "4c48d4e8-5de7-4d6f-9e6d-c5f799f1223d",
   "metadata": {
    "tags": []
   },
   "outputs": [],
   "source": [
    "import pandas as pd\n",
    "import numpy as np\n",
    "from tqdm import tqdm"
   ]
  },
  {
   "cell_type": "markdown",
   "id": "f1d831d0-8192-4db6-b913-ef7327463f35",
   "metadata": {},
   "source": [
    "## 载入类别名称和ID"
   ]
  },
  {
   "cell_type": "code",
   "execution_count": 4,
   "id": "00c507c4-c990-4326-b479-4b18e8aa50da",
   "metadata": {
    "tags": []
   },
   "outputs": [
    {
     "name": "stdout",
     "output_type": "stream",
     "text": [
      "['covering', 'device', 'domestic_animal', 'mater', 'person', 'plant', 'structure', 'vertebrate']\n"
     ]
    }
   ],
   "source": [
    "# dataset_name = 'test_easy_classes'\n",
    "dataset_name = 'test_hard_classes'\n",
    "model_name = 'retrained-frozen-1-epoch-197-'\n",
    "model_path = './SOD-model/' + model_name\n",
    "\n",
    "# 类别名称 和 ID索引号 的映射字典\n",
    "class_names_dic = {0: 'covering', 1: 'device', 2: 'domestic_animal', 3: 'mater', 4: 'person', 5: 'plant',\n",
    "                       6: 'structure', 7: 'vertebrate'}\n",
    "# 获得类别名称\n",
    "classes = list(class_names_dic.values())\n",
    "print(classes)"
   ]
  },
  {
   "cell_type": "markdown",
   "id": "a25de944-2532-472c-af77-6b8eaacfa916",
   "metadata": {},
   "source": [
    "## 载入测试集预测结果表格"
   ]
  },
  {
   "cell_type": "code",
   "execution_count": 5,
   "id": "42c95441-d023-4fc2-897b-3f6a7f86e017",
   "metadata": {
    "tags": []
   },
   "outputs": [],
   "source": [
    "df = pd.read_csv(model_path + dataset_name +'-测试集预测结果.csv')"
   ]
  },
  {
   "cell_type": "code",
   "execution_count": 6,
   "id": "917a75bd-bd3f-4105-aa3c-0fce5e4d1fda",
   "metadata": {
    "tags": []
   },
   "outputs": [
    {
     "data": {
      "text/html": [
       "<div>\n",
       "<style scoped>\n",
       "    .dataframe tbody tr th:only-of-type {\n",
       "        vertical-align: middle;\n",
       "    }\n",
       "\n",
       "    .dataframe tbody tr th {\n",
       "        vertical-align: top;\n",
       "    }\n",
       "\n",
       "    .dataframe thead th {\n",
       "        text-align: right;\n",
       "    }\n",
       "</style>\n",
       "<table border=\"1\" class=\"dataframe\">\n",
       "  <thead>\n",
       "    <tr style=\"text-align: right;\">\n",
       "      <th></th>\n",
       "      <th>图像路径</th>\n",
       "      <th>标注类别ID</th>\n",
       "      <th>标注类别名称</th>\n",
       "      <th>top-1-预测ID</th>\n",
       "      <th>top-1-预测名称</th>\n",
       "      <th>top-2-预测ID</th>\n",
       "      <th>top-2-预测名称</th>\n",
       "      <th>top-3-预测ID</th>\n",
       "      <th>top-3-预测名称</th>\n",
       "      <th>top-n预测正确</th>\n",
       "      <th>covering-预测置信度</th>\n",
       "      <th>device-预测置信度</th>\n",
       "      <th>domestic_animal-预测置信度</th>\n",
       "      <th>mater-预测置信度</th>\n",
       "      <th>person-预测置信度</th>\n",
       "      <th>plant-预测置信度</th>\n",
       "      <th>structure-预测置信度</th>\n",
       "      <th>vertebrate-预测置信度</th>\n",
       "    </tr>\n",
       "  </thead>\n",
       "  <tbody>\n",
       "    <tr>\n",
       "      <th>0</th>\n",
       "      <td>data/SOD-SemanticDataset/test/COME15K-Hard/COM...</td>\n",
       "      <td>0</td>\n",
       "      <td>covering</td>\n",
       "      <td>3</td>\n",
       "      <td>mater</td>\n",
       "      <td>1</td>\n",
       "      <td>device</td>\n",
       "      <td>0</td>\n",
       "      <td>covering</td>\n",
       "      <td>True</td>\n",
       "      <td>0.0</td>\n",
       "      <td>0.0</td>\n",
       "      <td>0.0</td>\n",
       "      <td>1.0</td>\n",
       "      <td>0.0</td>\n",
       "      <td>0.0</td>\n",
       "      <td>0.0</td>\n",
       "      <td>0.0</td>\n",
       "    </tr>\n",
       "    <tr>\n",
       "      <th>1</th>\n",
       "      <td>data/SOD-SemanticDataset/test/COME15K-Hard/COM...</td>\n",
       "      <td>0</td>\n",
       "      <td>covering</td>\n",
       "      <td>3</td>\n",
       "      <td>mater</td>\n",
       "      <td>1</td>\n",
       "      <td>device</td>\n",
       "      <td>0</td>\n",
       "      <td>covering</td>\n",
       "      <td>True</td>\n",
       "      <td>0.0</td>\n",
       "      <td>0.0</td>\n",
       "      <td>0.0</td>\n",
       "      <td>1.0</td>\n",
       "      <td>0.0</td>\n",
       "      <td>0.0</td>\n",
       "      <td>0.0</td>\n",
       "      <td>0.0</td>\n",
       "    </tr>\n",
       "    <tr>\n",
       "      <th>2</th>\n",
       "      <td>data/SOD-SemanticDataset/test/COME15K-Hard/COM...</td>\n",
       "      <td>0</td>\n",
       "      <td>covering</td>\n",
       "      <td>3</td>\n",
       "      <td>mater</td>\n",
       "      <td>1</td>\n",
       "      <td>device</td>\n",
       "      <td>0</td>\n",
       "      <td>covering</td>\n",
       "      <td>True</td>\n",
       "      <td>0.0</td>\n",
       "      <td>0.0</td>\n",
       "      <td>0.0</td>\n",
       "      <td>1.0</td>\n",
       "      <td>0.0</td>\n",
       "      <td>0.0</td>\n",
       "      <td>0.0</td>\n",
       "      <td>0.0</td>\n",
       "    </tr>\n",
       "    <tr>\n",
       "      <th>3</th>\n",
       "      <td>data/SOD-SemanticDataset/test/COME15K-Hard/COM...</td>\n",
       "      <td>0</td>\n",
       "      <td>covering</td>\n",
       "      <td>3</td>\n",
       "      <td>mater</td>\n",
       "      <td>1</td>\n",
       "      <td>device</td>\n",
       "      <td>0</td>\n",
       "      <td>covering</td>\n",
       "      <td>True</td>\n",
       "      <td>0.0</td>\n",
       "      <td>0.0</td>\n",
       "      <td>0.0</td>\n",
       "      <td>1.0</td>\n",
       "      <td>0.0</td>\n",
       "      <td>0.0</td>\n",
       "      <td>0.0</td>\n",
       "      <td>0.0</td>\n",
       "    </tr>\n",
       "    <tr>\n",
       "      <th>4</th>\n",
       "      <td>data/SOD-SemanticDataset/test/COME15K-Hard/COM...</td>\n",
       "      <td>0</td>\n",
       "      <td>covering</td>\n",
       "      <td>3</td>\n",
       "      <td>mater</td>\n",
       "      <td>1</td>\n",
       "      <td>device</td>\n",
       "      <td>0</td>\n",
       "      <td>covering</td>\n",
       "      <td>True</td>\n",
       "      <td>0.0</td>\n",
       "      <td>0.0</td>\n",
       "      <td>0.0</td>\n",
       "      <td>1.0</td>\n",
       "      <td>0.0</td>\n",
       "      <td>0.0</td>\n",
       "      <td>0.0</td>\n",
       "      <td>0.0</td>\n",
       "    </tr>\n",
       "    <tr>\n",
       "      <th>...</th>\n",
       "      <td>...</td>\n",
       "      <td>...</td>\n",
       "      <td>...</td>\n",
       "      <td>...</td>\n",
       "      <td>...</td>\n",
       "      <td>...</td>\n",
       "      <td>...</td>\n",
       "      <td>...</td>\n",
       "      <td>...</td>\n",
       "      <td>...</td>\n",
       "      <td>...</td>\n",
       "      <td>...</td>\n",
       "      <td>...</td>\n",
       "      <td>...</td>\n",
       "      <td>...</td>\n",
       "      <td>...</td>\n",
       "      <td>...</td>\n",
       "      <td>...</td>\n",
       "    </tr>\n",
       "    <tr>\n",
       "      <th>2995</th>\n",
       "      <td>data/SOD-SemanticDataset/test/COME15K-Hard/COM...</td>\n",
       "      <td>7</td>\n",
       "      <td>vertebrate</td>\n",
       "      <td>3</td>\n",
       "      <td>mater</td>\n",
       "      <td>1</td>\n",
       "      <td>device</td>\n",
       "      <td>0</td>\n",
       "      <td>covering</td>\n",
       "      <td>False</td>\n",
       "      <td>0.0</td>\n",
       "      <td>0.0</td>\n",
       "      <td>0.0</td>\n",
       "      <td>1.0</td>\n",
       "      <td>0.0</td>\n",
       "      <td>0.0</td>\n",
       "      <td>0.0</td>\n",
       "      <td>0.0</td>\n",
       "    </tr>\n",
       "    <tr>\n",
       "      <th>2996</th>\n",
       "      <td>data/SOD-SemanticDataset/test/COME15K-Hard/COM...</td>\n",
       "      <td>7</td>\n",
       "      <td>vertebrate</td>\n",
       "      <td>3</td>\n",
       "      <td>mater</td>\n",
       "      <td>1</td>\n",
       "      <td>device</td>\n",
       "      <td>0</td>\n",
       "      <td>covering</td>\n",
       "      <td>False</td>\n",
       "      <td>0.0</td>\n",
       "      <td>0.0</td>\n",
       "      <td>0.0</td>\n",
       "      <td>1.0</td>\n",
       "      <td>0.0</td>\n",
       "      <td>0.0</td>\n",
       "      <td>0.0</td>\n",
       "      <td>0.0</td>\n",
       "    </tr>\n",
       "    <tr>\n",
       "      <th>2997</th>\n",
       "      <td>data/SOD-SemanticDataset/test/COME15K-Hard/COM...</td>\n",
       "      <td>7</td>\n",
       "      <td>vertebrate</td>\n",
       "      <td>3</td>\n",
       "      <td>mater</td>\n",
       "      <td>1</td>\n",
       "      <td>device</td>\n",
       "      <td>0</td>\n",
       "      <td>covering</td>\n",
       "      <td>False</td>\n",
       "      <td>0.0</td>\n",
       "      <td>0.0</td>\n",
       "      <td>0.0</td>\n",
       "      <td>1.0</td>\n",
       "      <td>0.0</td>\n",
       "      <td>0.0</td>\n",
       "      <td>0.0</td>\n",
       "      <td>0.0</td>\n",
       "    </tr>\n",
       "    <tr>\n",
       "      <th>2998</th>\n",
       "      <td>data/SOD-SemanticDataset/test/COME15K-Hard/COM...</td>\n",
       "      <td>7</td>\n",
       "      <td>vertebrate</td>\n",
       "      <td>3</td>\n",
       "      <td>mater</td>\n",
       "      <td>1</td>\n",
       "      <td>device</td>\n",
       "      <td>0</td>\n",
       "      <td>covering</td>\n",
       "      <td>False</td>\n",
       "      <td>0.0</td>\n",
       "      <td>0.0</td>\n",
       "      <td>0.0</td>\n",
       "      <td>1.0</td>\n",
       "      <td>0.0</td>\n",
       "      <td>0.0</td>\n",
       "      <td>0.0</td>\n",
       "      <td>0.0</td>\n",
       "    </tr>\n",
       "    <tr>\n",
       "      <th>2999</th>\n",
       "      <td>data/SOD-SemanticDataset/test/COME15K-Hard/COM...</td>\n",
       "      <td>7</td>\n",
       "      <td>vertebrate</td>\n",
       "      <td>3</td>\n",
       "      <td>mater</td>\n",
       "      <td>1</td>\n",
       "      <td>device</td>\n",
       "      <td>0</td>\n",
       "      <td>covering</td>\n",
       "      <td>False</td>\n",
       "      <td>0.0</td>\n",
       "      <td>0.0</td>\n",
       "      <td>0.0</td>\n",
       "      <td>1.0</td>\n",
       "      <td>0.0</td>\n",
       "      <td>0.0</td>\n",
       "      <td>0.0</td>\n",
       "      <td>0.0</td>\n",
       "    </tr>\n",
       "  </tbody>\n",
       "</table>\n",
       "<p>3000 rows × 18 columns</p>\n",
       "</div>"
      ],
      "text/plain": [
       "                                                   图像路径  标注类别ID      标注类别名称   \n",
       "0     data/SOD-SemanticDataset/test/COME15K-Hard/COM...       0    covering  \\\n",
       "1     data/SOD-SemanticDataset/test/COME15K-Hard/COM...       0    covering   \n",
       "2     data/SOD-SemanticDataset/test/COME15K-Hard/COM...       0    covering   \n",
       "3     data/SOD-SemanticDataset/test/COME15K-Hard/COM...       0    covering   \n",
       "4     data/SOD-SemanticDataset/test/COME15K-Hard/COM...       0    covering   \n",
       "...                                                 ...     ...         ...   \n",
       "2995  data/SOD-SemanticDataset/test/COME15K-Hard/COM...       7  vertebrate   \n",
       "2996  data/SOD-SemanticDataset/test/COME15K-Hard/COM...       7  vertebrate   \n",
       "2997  data/SOD-SemanticDataset/test/COME15K-Hard/COM...       7  vertebrate   \n",
       "2998  data/SOD-SemanticDataset/test/COME15K-Hard/COM...       7  vertebrate   \n",
       "2999  data/SOD-SemanticDataset/test/COME15K-Hard/COM...       7  vertebrate   \n",
       "\n",
       "      top-1-预测ID top-1-预测名称  top-2-预测ID top-2-预测名称  top-3-预测ID top-3-预测名称   \n",
       "0              3      mater           1     device           0   covering  \\\n",
       "1              3      mater           1     device           0   covering   \n",
       "2              3      mater           1     device           0   covering   \n",
       "3              3      mater           1     device           0   covering   \n",
       "4              3      mater           1     device           0   covering   \n",
       "...          ...        ...         ...        ...         ...        ...   \n",
       "2995           3      mater           1     device           0   covering   \n",
       "2996           3      mater           1     device           0   covering   \n",
       "2997           3      mater           1     device           0   covering   \n",
       "2998           3      mater           1     device           0   covering   \n",
       "2999           3      mater           1     device           0   covering   \n",
       "\n",
       "      top-n预测正确  covering-预测置信度  device-预测置信度  domestic_animal-预测置信度   \n",
       "0          True             0.0           0.0                    0.0  \\\n",
       "1          True             0.0           0.0                    0.0   \n",
       "2          True             0.0           0.0                    0.0   \n",
       "3          True             0.0           0.0                    0.0   \n",
       "4          True             0.0           0.0                    0.0   \n",
       "...         ...             ...           ...                    ...   \n",
       "2995      False             0.0           0.0                    0.0   \n",
       "2996      False             0.0           0.0                    0.0   \n",
       "2997      False             0.0           0.0                    0.0   \n",
       "2998      False             0.0           0.0                    0.0   \n",
       "2999      False             0.0           0.0                    0.0   \n",
       "\n",
       "      mater-预测置信度  person-预测置信度  plant-预测置信度  structure-预测置信度   \n",
       "0             1.0           0.0          0.0              0.0  \\\n",
       "1             1.0           0.0          0.0              0.0   \n",
       "2             1.0           0.0          0.0              0.0   \n",
       "3             1.0           0.0          0.0              0.0   \n",
       "4             1.0           0.0          0.0              0.0   \n",
       "...           ...           ...          ...              ...   \n",
       "2995          1.0           0.0          0.0              0.0   \n",
       "2996          1.0           0.0          0.0              0.0   \n",
       "2997          1.0           0.0          0.0              0.0   \n",
       "2998          1.0           0.0          0.0              0.0   \n",
       "2999          1.0           0.0          0.0              0.0   \n",
       "\n",
       "      vertebrate-预测置信度  \n",
       "0                  0.0  \n",
       "1                  0.0  \n",
       "2                  0.0  \n",
       "3                  0.0  \n",
       "4                  0.0  \n",
       "...                ...  \n",
       "2995               0.0  \n",
       "2996               0.0  \n",
       "2997               0.0  \n",
       "2998               0.0  \n",
       "2999               0.0  \n",
       "\n",
       "[3000 rows x 18 columns]"
      ]
     },
     "execution_count": 6,
     "metadata": {},
     "output_type": "execute_result"
    }
   ],
   "source": [
    "df"
   ]
  },
  {
   "cell_type": "markdown",
   "id": "9a8b96c3-1d5c-41af-9592-44b839b3f4e4",
   "metadata": {},
   "source": [
    "## 准确率"
   ]
  },
  {
   "cell_type": "code",
   "execution_count": 7,
   "id": "c9886ac3-4640-4ff3-8884-2206af037fac",
   "metadata": {
    "tags": []
   },
   "outputs": [
    {
     "data": {
      "text/plain": [
       "0.195"
      ]
     },
     "execution_count": 7,
     "metadata": {},
     "output_type": "execute_result"
    }
   ],
   "source": [
    "sum(df['标注类别名称'] == df['top-1-预测名称']) / len(df)"
   ]
  },
  {
   "cell_type": "markdown",
   "id": "bf691ba6-ce59-4dcc-9305-109fe5dcb499",
   "metadata": {},
   "source": [
    "## top-n准确率"
   ]
  },
  {
   "cell_type": "code",
   "execution_count": 8,
   "id": "fedf6c0d-c06b-4a04-8a07-9d4c6f937338",
   "metadata": {
    "tags": []
   },
   "outputs": [
    {
     "data": {
      "text/plain": [
       "0.44166666666666665"
      ]
     },
     "execution_count": 8,
     "metadata": {},
     "output_type": "execute_result"
    }
   ],
   "source": [
    "sum(df['top-n预测正确']) / len(df)"
   ]
  },
  {
   "cell_type": "markdown",
   "id": "8a3de26a-3e66-404b-b64d-111835a7c0de",
   "metadata": {},
   "source": [
    "## 各类别其它评估指标\n",
    "\n",
    "公众号 人工智能小技巧 回复 混淆矩阵\n",
    "\n",
    "看子豪兄视频和笔记讲解"
   ]
  },
  {
   "cell_type": "code",
   "execution_count": 9,
   "id": "d1e22035-9163-427f-b620-d3bc079f8959",
   "metadata": {
    "tags": []
   },
   "outputs": [],
   "source": [
    "from sklearn.metrics import classification_report"
   ]
  },
  {
   "cell_type": "code",
   "execution_count": 10,
   "id": "18d3f8e3-8e57-42c0-97d2-62f1e33b5739",
   "metadata": {
    "tags": []
   },
   "outputs": [
    {
     "name": "stdout",
     "output_type": "stream",
     "text": [
      "                 precision    recall  f1-score   support\n",
      "\n",
      "       covering       0.00      0.00      0.00       229\n",
      "         device       0.00      0.00      0.00       511\n",
      "domestic_animal       0.00      0.00      0.00       266\n",
      "          mater       0.20      1.00      0.33       585\n",
      "         person       0.00      0.00      0.00       793\n",
      "          plant       0.00      0.00      0.00       184\n",
      "      structure       0.00      0.00      0.00       137\n",
      "     vertebrate       0.00      0.00      0.00       295\n",
      "\n",
      "       accuracy                           0.20      3000\n",
      "      macro avg       0.02      0.12      0.04      3000\n",
      "   weighted avg       0.04      0.20      0.06      3000\n",
      "\n"
     ]
    },
    {
     "name": "stderr",
     "output_type": "stream",
     "text": [
      "/home/mark/anaconda3/envs/SemanticTest/lib/python3.8/site-packages/sklearn/metrics/_classification.py:1344: UndefinedMetricWarning: Precision and F-score are ill-defined and being set to 0.0 in labels with no predicted samples. Use `zero_division` parameter to control this behavior.\n",
      "  _warn_prf(average, modifier, msg_start, len(result))\n",
      "/home/mark/anaconda3/envs/SemanticTest/lib/python3.8/site-packages/sklearn/metrics/_classification.py:1344: UndefinedMetricWarning: Precision and F-score are ill-defined and being set to 0.0 in labels with no predicted samples. Use `zero_division` parameter to control this behavior.\n",
      "  _warn_prf(average, modifier, msg_start, len(result))\n",
      "/home/mark/anaconda3/envs/SemanticTest/lib/python3.8/site-packages/sklearn/metrics/_classification.py:1344: UndefinedMetricWarning: Precision and F-score are ill-defined and being set to 0.0 in labels with no predicted samples. Use `zero_division` parameter to control this behavior.\n",
      "  _warn_prf(average, modifier, msg_start, len(result))\n"
     ]
    }
   ],
   "source": [
    "print(classification_report(df['标注类别名称'], df['top-1-预测名称'], target_names=classes))"
   ]
  },
  {
   "cell_type": "markdown",
   "id": "df4db2a0-b1b2-4cff-92e5-fc097336b2ae",
   "metadata": {},
   "source": [
    "macro avg 宏平均：直接将每一类的评估指标求和取平均（算数平均值）\n",
    "\n",
    "weighted avg 加权平均：按样本数量（support）加权计算评估指标的平均值"
   ]
  },
  {
   "cell_type": "code",
   "execution_count": 11,
   "id": "64e2187b-a236-4518-a439-562e565739c5",
   "metadata": {
    "tags": []
   },
   "outputs": [
    {
     "name": "stderr",
     "output_type": "stream",
     "text": [
      "/home/mark/anaconda3/envs/SemanticTest/lib/python3.8/site-packages/sklearn/metrics/_classification.py:1344: UndefinedMetricWarning: Precision and F-score are ill-defined and being set to 0.0 in labels with no predicted samples. Use `zero_division` parameter to control this behavior.\n",
      "  _warn_prf(average, modifier, msg_start, len(result))\n",
      "/home/mark/anaconda3/envs/SemanticTest/lib/python3.8/site-packages/sklearn/metrics/_classification.py:1344: UndefinedMetricWarning: Precision and F-score are ill-defined and being set to 0.0 in labels with no predicted samples. Use `zero_division` parameter to control this behavior.\n",
      "  _warn_prf(average, modifier, msg_start, len(result))\n",
      "/home/mark/anaconda3/envs/SemanticTest/lib/python3.8/site-packages/sklearn/metrics/_classification.py:1344: UndefinedMetricWarning: Precision and F-score are ill-defined and being set to 0.0 in labels with no predicted samples. Use `zero_division` parameter to control this behavior.\n",
      "  _warn_prf(average, modifier, msg_start, len(result))\n"
     ]
    }
   ],
   "source": [
    "report = classification_report(df['标注类别名称'], df['top-1-预测名称'], target_names=classes, output_dict=True)\n",
    "del report['accuracy']\n",
    "df_report = pd.DataFrame(report).transpose()"
   ]
  },
  {
   "cell_type": "code",
   "execution_count": 12,
   "id": "14266155-da0f-4c5d-9366-4273222fe600",
   "metadata": {
    "tags": []
   },
   "outputs": [
    {
     "data": {
      "text/html": [
       "<div>\n",
       "<style scoped>\n",
       "    .dataframe tbody tr th:only-of-type {\n",
       "        vertical-align: middle;\n",
       "    }\n",
       "\n",
       "    .dataframe tbody tr th {\n",
       "        vertical-align: top;\n",
       "    }\n",
       "\n",
       "    .dataframe thead th {\n",
       "        text-align: right;\n",
       "    }\n",
       "</style>\n",
       "<table border=\"1\" class=\"dataframe\">\n",
       "  <thead>\n",
       "    <tr style=\"text-align: right;\">\n",
       "      <th></th>\n",
       "      <th>precision</th>\n",
       "      <th>recall</th>\n",
       "      <th>f1-score</th>\n",
       "      <th>support</th>\n",
       "    </tr>\n",
       "  </thead>\n",
       "  <tbody>\n",
       "    <tr>\n",
       "      <th>covering</th>\n",
       "      <td>0.000000</td>\n",
       "      <td>0.000</td>\n",
       "      <td>0.000000</td>\n",
       "      <td>229.0</td>\n",
       "    </tr>\n",
       "    <tr>\n",
       "      <th>device</th>\n",
       "      <td>0.000000</td>\n",
       "      <td>0.000</td>\n",
       "      <td>0.000000</td>\n",
       "      <td>511.0</td>\n",
       "    </tr>\n",
       "    <tr>\n",
       "      <th>domestic_animal</th>\n",
       "      <td>0.000000</td>\n",
       "      <td>0.000</td>\n",
       "      <td>0.000000</td>\n",
       "      <td>266.0</td>\n",
       "    </tr>\n",
       "    <tr>\n",
       "      <th>mater</th>\n",
       "      <td>0.195000</td>\n",
       "      <td>1.000</td>\n",
       "      <td>0.326360</td>\n",
       "      <td>585.0</td>\n",
       "    </tr>\n",
       "    <tr>\n",
       "      <th>person</th>\n",
       "      <td>0.000000</td>\n",
       "      <td>0.000</td>\n",
       "      <td>0.000000</td>\n",
       "      <td>793.0</td>\n",
       "    </tr>\n",
       "    <tr>\n",
       "      <th>plant</th>\n",
       "      <td>0.000000</td>\n",
       "      <td>0.000</td>\n",
       "      <td>0.000000</td>\n",
       "      <td>184.0</td>\n",
       "    </tr>\n",
       "    <tr>\n",
       "      <th>structure</th>\n",
       "      <td>0.000000</td>\n",
       "      <td>0.000</td>\n",
       "      <td>0.000000</td>\n",
       "      <td>137.0</td>\n",
       "    </tr>\n",
       "    <tr>\n",
       "      <th>vertebrate</th>\n",
       "      <td>0.000000</td>\n",
       "      <td>0.000</td>\n",
       "      <td>0.000000</td>\n",
       "      <td>295.0</td>\n",
       "    </tr>\n",
       "    <tr>\n",
       "      <th>macro avg</th>\n",
       "      <td>0.024375</td>\n",
       "      <td>0.125</td>\n",
       "      <td>0.040795</td>\n",
       "      <td>3000.0</td>\n",
       "    </tr>\n",
       "    <tr>\n",
       "      <th>weighted avg</th>\n",
       "      <td>0.038025</td>\n",
       "      <td>0.195</td>\n",
       "      <td>0.063640</td>\n",
       "      <td>3000.0</td>\n",
       "    </tr>\n",
       "  </tbody>\n",
       "</table>\n",
       "</div>"
      ],
      "text/plain": [
       "                 precision  recall  f1-score  support\n",
       "covering          0.000000   0.000  0.000000    229.0\n",
       "device            0.000000   0.000  0.000000    511.0\n",
       "domestic_animal   0.000000   0.000  0.000000    266.0\n",
       "mater             0.195000   1.000  0.326360    585.0\n",
       "person            0.000000   0.000  0.000000    793.0\n",
       "plant             0.000000   0.000  0.000000    184.0\n",
       "structure         0.000000   0.000  0.000000    137.0\n",
       "vertebrate        0.000000   0.000  0.000000    295.0\n",
       "macro avg         0.024375   0.125  0.040795   3000.0\n",
       "weighted avg      0.038025   0.195  0.063640   3000.0"
      ]
     },
     "execution_count": 12,
     "metadata": {},
     "output_type": "execute_result"
    }
   ],
   "source": [
    "df_report"
   ]
  },
  {
   "cell_type": "markdown",
   "id": "a65da7a6-f1ba-4f86-8a89-11d87529f6c7",
   "metadata": {},
   "source": [
    "## 补充：各类别准确率（其实就是recall）"
   ]
  },
  {
   "cell_type": "code",
   "execution_count": 13,
   "id": "02d63458-49eb-4d8a-a264-2e09bb61bc6b",
   "metadata": {
    "tags": []
   },
   "outputs": [
    {
     "name": "stderr",
     "output_type": "stream",
     "text": [
      "100%|███████████████████████████████████████████| 8/8 [00:00<00:00, 1871.31it/s]\n"
     ]
    }
   ],
   "source": [
    "accuracy_list = []\n",
    "for element in tqdm(classes):\n",
    "    df_temp = df[df['标注类别名称']==element]\n",
    "    accuracy = sum(df_temp['标注类别名称'] == df_temp['top-1-预测名称']) / len(df_temp)\n",
    "    accuracy_list.append(accuracy)"
   ]
  },
  {
   "cell_type": "code",
   "execution_count": 14,
   "id": "24ca5a23-b6f3-4ce3-84af-262fa5d10edb",
   "metadata": {
    "tags": []
   },
   "outputs": [],
   "source": [
    "# 计算 宏平均准确率 和 加权平均准确率\n",
    "acc_macro = np.mean(accuracy_list)\n",
    "acc_weighted = sum(accuracy_list * df_report.iloc[:-2]['support'] / len(df))\n",
    "\n",
    "accuracy_list.append(acc_macro)\n",
    "accuracy_list.append(acc_weighted)\n",
    "\n",
    "df_report['accuracy'] = accuracy_list"
   ]
  },
  {
   "cell_type": "code",
   "execution_count": 15,
   "id": "6f4b0b49-a8f2-4647-bc68-22f83ce29cc2",
   "metadata": {
    "tags": []
   },
   "outputs": [
    {
     "data": {
      "text/html": [
       "<div>\n",
       "<style scoped>\n",
       "    .dataframe tbody tr th:only-of-type {\n",
       "        vertical-align: middle;\n",
       "    }\n",
       "\n",
       "    .dataframe tbody tr th {\n",
       "        vertical-align: top;\n",
       "    }\n",
       "\n",
       "    .dataframe thead th {\n",
       "        text-align: right;\n",
       "    }\n",
       "</style>\n",
       "<table border=\"1\" class=\"dataframe\">\n",
       "  <thead>\n",
       "    <tr style=\"text-align: right;\">\n",
       "      <th></th>\n",
       "      <th>precision</th>\n",
       "      <th>recall</th>\n",
       "      <th>f1-score</th>\n",
       "      <th>support</th>\n",
       "      <th>accuracy</th>\n",
       "    </tr>\n",
       "  </thead>\n",
       "  <tbody>\n",
       "    <tr>\n",
       "      <th>covering</th>\n",
       "      <td>0.000000</td>\n",
       "      <td>0.000</td>\n",
       "      <td>0.000000</td>\n",
       "      <td>229.0</td>\n",
       "      <td>0.000</td>\n",
       "    </tr>\n",
       "    <tr>\n",
       "      <th>device</th>\n",
       "      <td>0.000000</td>\n",
       "      <td>0.000</td>\n",
       "      <td>0.000000</td>\n",
       "      <td>511.0</td>\n",
       "      <td>0.000</td>\n",
       "    </tr>\n",
       "    <tr>\n",
       "      <th>domestic_animal</th>\n",
       "      <td>0.000000</td>\n",
       "      <td>0.000</td>\n",
       "      <td>0.000000</td>\n",
       "      <td>266.0</td>\n",
       "      <td>0.000</td>\n",
       "    </tr>\n",
       "    <tr>\n",
       "      <th>mater</th>\n",
       "      <td>0.195000</td>\n",
       "      <td>1.000</td>\n",
       "      <td>0.326360</td>\n",
       "      <td>585.0</td>\n",
       "      <td>1.000</td>\n",
       "    </tr>\n",
       "    <tr>\n",
       "      <th>person</th>\n",
       "      <td>0.000000</td>\n",
       "      <td>0.000</td>\n",
       "      <td>0.000000</td>\n",
       "      <td>793.0</td>\n",
       "      <td>0.000</td>\n",
       "    </tr>\n",
       "    <tr>\n",
       "      <th>plant</th>\n",
       "      <td>0.000000</td>\n",
       "      <td>0.000</td>\n",
       "      <td>0.000000</td>\n",
       "      <td>184.0</td>\n",
       "      <td>0.000</td>\n",
       "    </tr>\n",
       "    <tr>\n",
       "      <th>structure</th>\n",
       "      <td>0.000000</td>\n",
       "      <td>0.000</td>\n",
       "      <td>0.000000</td>\n",
       "      <td>137.0</td>\n",
       "      <td>0.000</td>\n",
       "    </tr>\n",
       "    <tr>\n",
       "      <th>vertebrate</th>\n",
       "      <td>0.000000</td>\n",
       "      <td>0.000</td>\n",
       "      <td>0.000000</td>\n",
       "      <td>295.0</td>\n",
       "      <td>0.000</td>\n",
       "    </tr>\n",
       "    <tr>\n",
       "      <th>macro avg</th>\n",
       "      <td>0.024375</td>\n",
       "      <td>0.125</td>\n",
       "      <td>0.040795</td>\n",
       "      <td>3000.0</td>\n",
       "      <td>0.125</td>\n",
       "    </tr>\n",
       "    <tr>\n",
       "      <th>weighted avg</th>\n",
       "      <td>0.038025</td>\n",
       "      <td>0.195</td>\n",
       "      <td>0.063640</td>\n",
       "      <td>3000.0</td>\n",
       "      <td>0.195</td>\n",
       "    </tr>\n",
       "  </tbody>\n",
       "</table>\n",
       "</div>"
      ],
      "text/plain": [
       "                 precision  recall  f1-score  support  accuracy\n",
       "covering          0.000000   0.000  0.000000    229.0     0.000\n",
       "device            0.000000   0.000  0.000000    511.0     0.000\n",
       "domestic_animal   0.000000   0.000  0.000000    266.0     0.000\n",
       "mater             0.195000   1.000  0.326360    585.0     1.000\n",
       "person            0.000000   0.000  0.000000    793.0     0.000\n",
       "plant             0.000000   0.000  0.000000    184.0     0.000\n",
       "structure         0.000000   0.000  0.000000    137.0     0.000\n",
       "vertebrate        0.000000   0.000  0.000000    295.0     0.000\n",
       "macro avg         0.024375   0.125  0.040795   3000.0     0.125\n",
       "weighted avg      0.038025   0.195  0.063640   3000.0     0.195"
      ]
     },
     "execution_count": 15,
     "metadata": {},
     "output_type": "execute_result"
    }
   ],
   "source": [
    "df_report"
   ]
  },
  {
   "cell_type": "code",
   "execution_count": 16,
   "id": "123e15a8-a48f-4cf6-b1de-0bf1ab673962",
   "metadata": {
    "tags": []
   },
   "outputs": [],
   "source": [
    "df_report.to_csv(model_path + dataset_name + '-各类别准确率评估指标.csv', index_label='类别')"
   ]
  },
  {
   "cell_type": "code",
   "execution_count": null,
   "id": "386536ae-7c69-491d-832c-d0b2aa8f64f0",
   "metadata": {},
   "outputs": [],
   "source": []
  }
 ],
 "metadata": {
  "kernelspec": {
   "display_name": "Python [conda env:SemanticTest]",
   "language": "python",
   "name": "conda-env-SemanticTest-py"
  },
  "language_info": {
   "codemirror_mode": {
    "name": "ipython",
    "version": 3
   },
   "file_extension": ".py",
   "mimetype": "text/x-python",
   "name": "python",
   "nbconvert_exporter": "python",
   "pygments_lexer": "ipython3",
   "version": "3.8.16"
  }
 },
 "nbformat": 4,
 "nbformat_minor": 5
}
